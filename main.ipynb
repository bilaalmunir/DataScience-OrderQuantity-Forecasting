{
 "cells": [
  {
   "cell_type": "code",
   "execution_count": 3,
   "metadata": {},
   "outputs": [],
   "source": [
    "import pandas as pd\n",
    "import os"
   ]
  },
  {
   "cell_type": "code",
   "execution_count": 4,
   "metadata": {},
   "outputs": [],
   "source": [
    "file_paths={\n",
    "16 : 'D:/Desktop/Data/Shipments and Orders 2016.csv',\n",
    "17 : 'D:/Desktop/Data/Shipments and Orders 2017.csv',\n",
    "18 : 'D:/Desktop/Data/Shipments and Orders 2018.csv',\n",
    "19 : 'D:/Desktop/Data/Shipments and Orders 2019.csv',\n",
    "20 : 'D:/Desktop/Data/Shipments and Orders 2020.csv',\n",
    "21 : 'D:/Desktop/Data/Shipments and Orders 2021.csv',\n",
    "22 : 'D:/Desktop/Data/Shipments and Orders 2022.csv',\n",
    "23 : 'D:/Desktop/Data/Shipments and Orders 2023.csv',\n",
    "# 24 : 'D:/Desktop/Data/Shipments and Orders 2024 may.csv',\n",
    "}"
   ]
  },
  {
   "cell_type": "code",
   "execution_count": 5,
   "metadata": {},
   "outputs": [
    {
     "name": "stderr",
     "output_type": "stream",
     "text": [
      "C:\\Users\\CM-Ajk\\AppData\\Local\\Temp\\ipykernel_21844\\1043919190.py:6: DtypeWarning: Columns (27) have mixed types. Specify dtype option on import or set low_memory=False.\n",
      "  dataframes[year] = pd.read_csv(path)\n"
     ]
    }
   ],
   "source": [
    "years = range(16,23)\n",
    "dataframes = {}\n",
    "\n",
    "for year,path in file_paths.items():\n",
    "    try:\n",
    "        dataframes[year] = pd.read_csv(path)\n",
    "    except FileNotFoundError:\n",
    "        print(f\"file not found : {path}\")\n",
    "    "
   ]
  },
  {
   "cell_type": "code",
   "execution_count": 6,
   "metadata": {},
   "outputs": [
    {
     "name": "stdout",
     "output_type": "stream",
     "text": [
      "(16,         Year Month Name         Week Week Start Date  4 Week Ago Forecast  \\\n",
      "0       2016    January  2016 Week01      2016-01-01                  NaN   \n",
      "1       2016    January  2016 Week01      2016-01-01                  NaN   \n",
      "2       2016    January  2016 Week01      2016-01-01                  NaN   \n",
      "3       2016    January  2016 Week01      2016-01-01                  NaN   \n",
      "4       2016    January  2016 Week01      2016-01-01                  NaN   \n",
      "...      ...        ...          ...             ...                  ...   \n",
      "456052  2016   December  2016 Week53      2016-12-25                  NaN   \n",
      "456053  2016   December  2016 Week53      2016-12-25                  NaN   \n",
      "456054  2016   December  2016 Week53      2016-12-25                  NaN   \n",
      "456055  2016   December  2016 Week53      2016-12-25                  NaN   \n",
      "456056  2016   December  2016 Week53      2016-12-25                  NaN   \n",
      "\n",
      "       Plant Location Name Sales Channel Code                   Customer Name  \\\n",
      "0         PLANT MONTGOMERY         HOME DEPOT               THD.COM DROP SHIP   \n",
      "1         PLANT MONTGOMERY         HOME DEPOT               THD.COM DROP SHIP   \n",
      "2         PLANT MONTGOMERY         HOME DEPOT               THD.COM DROP SHIP   \n",
      "3         PLANT MONTGOMERY         HOME DEPOT               THD.COM DROP SHIP   \n",
      "4         PLANT MONTGOMERY         HOME DEPOT               THD.COM DROP SHIP   \n",
      "...                    ...                ...                             ...   \n",
      "456052      WHSE SOUTHEAST          WHOLESALE       WINWHOLESALE INCORPORATED   \n",
      "456053      WHSE SOUTHEAST          WHOLESALE       WINWHOLESALE INCORPORATED   \n",
      "456054      WHSE SOUTHEAST          WHOLESALE       WINWHOLESALE INCORPORATED   \n",
      "456055      WHSE SOUTHEAST          WHOLESALE       WINWHOLESALE INCORPORATED   \n",
      "456056      WHSE SOUTHEAST          WHOLESALE  WOOL WHOLESALE PLUMBING SUPPLY   \n",
      "\n",
      "       Ship To Location State Ship To Location City  ...  Product Group  \\\n",
      "0                          GA                 Evans  ...  WATER HEATING   \n",
      "1                          IL           Orland Park  ...  WATER HEATING   \n",
      "2                          IN                Jasper  ...  WATER HEATING   \n",
      "3                          MA            Leominster  ...  WATER HEATING   \n",
      "4                          PA           COATESVILLE  ...  WATER HEATING   \n",
      "...                       ...                   ...  ...            ...   \n",
      "456052                     MO             Grandview  ...  WATER HEATING   \n",
      "456053                     MO          POPLAR BLUFF  ...  WATER HEATING   \n",
      "456054                     VA              RICHMOND  ...  WATER HEATING   \n",
      "456055                     VA              RICHMOND  ...  WATER HEATING   \n",
      "456056                     FL             Palm City  ...  WATER HEATING   \n",
      "\n",
      "       Product Market    Product Class     Family Group  \\\n",
      "0         RESIDENTIAL         ELECTRIC         MARATHON   \n",
      "1         RESIDENTIAL              GAS      ATMOSPHERIC   \n",
      "2          COMMERCIAL         ELECTRIC    MARATHON SPEC   \n",
      "3         RESIDENTIAL         ELECTRIC         MARATHON   \n",
      "4         RESIDENTIAL         ELECTRIC         MARATHON   \n",
      "...               ...              ...              ...   \n",
      "456052     COMMERCIAL  STORAGE PRODUCT  STORAGE PRODUCT   \n",
      "456053     COMMERCIAL              GAS       HEAVY DUTY   \n",
      "456054     COMMERCIAL         ELECTRIC          SURFACE   \n",
      "456055     COMMERCIAL              GAS       LIGHT DUTY   \n",
      "456056     COMMERCIAL         ELECTRIC       LIGHT DUTY   \n",
      "\n",
      "       Family Type/Base Model    Fuel Type Product Number Ordered Quantity  \\\n",
      "0                      MR40-3     ELECTRIC         664453              1.0   \n",
      "1                    44V100-3        LONOX         636351              1.0   \n",
      "2                     MHD85-3     ELECTRIC         664606              1.0   \n",
      "3                        MR50     ELECTRIC         635880              1.0   \n",
      "4                       MSR50     ELECTRIC         473369              1.0   \n",
      "...                       ...          ...            ...              ...   \n",
      "456052                  ST120     ELECTRIC         472607              1.0   \n",
      "456053                 G100MF  NATURAL GAS         397269              1.0   \n",
      "456054                  ES120     ELECTRIC         400655              NaN   \n",
      "456055                G75LD-3  NATURAL GAS         570419              NaN   \n",
      "456056               ELD120-C     ELECTRIC         639642              1.0   \n",
      "\n",
      "       Gross Sales Qty         Sales Org Name  \n",
      "0                    0  WATER HEATER DIVISION  \n",
      "1                    0  WATER HEATER DIVISION  \n",
      "2                    0  WATER HEATER DIVISION  \n",
      "3                    0  WATER HEATER DIVISION  \n",
      "4                    0  WATER HEATER DIVISION  \n",
      "...                ...                    ...  \n",
      "456052               0  WATER HEATER DIVISION  \n",
      "456053               1  WATER HEATER DIVISION  \n",
      "456054               5  WATER HEATER DIVISION  \n",
      "456055               1  WATER HEATER DIVISION  \n",
      "456056               1  WATER HEATER DIVISION  \n",
      "\n",
      "[456057 rows x 24 columns])\n",
      "(17,         Year Month Name         Week Week Start Date  4 Week Ago Forecast  \\\n",
      "0       2017    January  2017 Week01      2017-01-01                  NaN   \n",
      "1       2017    January  2017 Week01      2017-01-01                  NaN   \n",
      "2       2017    January  2017 Week01      2017-01-01                  NaN   \n",
      "3       2017    January  2017 Week01      2017-01-01                  NaN   \n",
      "4       2017    January  2017 Week01      2017-01-01                  NaN   \n",
      "...      ...        ...          ...             ...                  ...   \n",
      "448559  2017   December  2017 Week53      2017-12-31                  NaN   \n",
      "448560  2017   December  2017 Week53      2017-12-31                  NaN   \n",
      "448561  2017   December  2017 Week53      2017-12-31                  NaN   \n",
      "448562  2017   December  2017 Week53      2017-12-31                  NaN   \n",
      "448563  2017   December  2017 Week53      2017-12-31                  NaN   \n",
      "\n",
      "            Plant Location Name    Sales Channel Code  \\\n",
      "0                     CARGOQUIN  MANUFACTURED HOUSING   \n",
      "1                     CARGOQUIN  MANUFACTURED HOUSING   \n",
      "2                     CARGOQUIN  MANUFACTURED HOUSING   \n",
      "3                     CARGOQUIN  MANUFACTURED HOUSING   \n",
      "4                     CARGOQUIN  MANUFACTURED HOUSING   \n",
      "...                         ...                   ...   \n",
      "448559  PLANT WH NUEVO LAREDO 1                RETAIL   \n",
      "448560  PLANT WH NUEVO LAREDO 1                RETAIL   \n",
      "448561              Unspecified            HOME DEPOT   \n",
      "448562              WHSE LAREDO            HOME DEPOT   \n",
      "448563           WHSE SOUTHEAST            HOME DEPOT   \n",
      "\n",
      "                        Customer Name Ship To Location State  \\\n",
      "0       CAVCO INDUSTRIES INCORPORATED                     VA   \n",
      "1       CAVCO INDUSTRIES INCORPORATED                     VA   \n",
      "2       CAVCO INDUSTRIES INCORPORATED                     VA   \n",
      "3       CAVCO INDUSTRIES INCORPORATED                     VA   \n",
      "4                  THE COMMODORE CORP                     NC   \n",
      "...                               ...                    ...   \n",
      "448559                        MENARDS                     WI   \n",
      "448560                        MENARDS                     WI   \n",
      "448561                 THE HOME DEPOT                     GA   \n",
      "448562                 THE HOME DEPOT                     CA   \n",
      "448563              THD.COM DROP SHIP                     AZ   \n",
      "\n",
      "       Ship To Location City  ...     Product Group Product Market  \\\n",
      "0               MARTINSVILLE  ...     WATER HEATING    RESIDENTIAL   \n",
      "1                ROCKY MOUNT  ...  PARTS & SERVICES   WATER HEATER   \n",
      "2                ROCKY MOUNT  ...     WATER HEATING    RESIDENTIAL   \n",
      "3                ROCKY MOUNT  ...     WATER HEATING    RESIDENTIAL   \n",
      "4                     Crouse  ...     WATER HEATING    RESIDENTIAL   \n",
      "...                      ...  ...               ...            ...   \n",
      "448559            EAU CLAIRE  ...     WATER HEATING    RESIDENTIAL   \n",
      "448560            IRON RIDGE  ...     WATER HEATING    RESIDENTIAL   \n",
      "448561               ATLANTA  ...     WATER HEATING    RESIDENTIAL   \n",
      "448562          APPLE VALLEY  ...     WATER HEATING   TANKLESS GAS   \n",
      "448563      Lake Havasu City  ...     WATER HEATING     COMMERCIAL   \n",
      "\n",
      "       Product Class  Family Group Family Type/Base Model       Fuel Type  \\\n",
      "0           ELECTRIC             V                  84V52        ELECTRIC   \n",
      "1       WATER HEATER    DRAIN PANS              UNDEFINED             NaN   \n",
      "2           ELECTRIC   MFG HOUSING                  74V30        ELECTRIC   \n",
      "3           ELECTRIC   MFG HOUSING                  74V40        ELECTRIC   \n",
      "4           ELECTRIC             V                  84V40        ELECTRIC   \n",
      "...              ...           ...                    ...             ...   \n",
      "448559           GAS   DIRECT VENT                24DV40F  LIQUID PROPANE   \n",
      "448560           GAS   MFG HOUSING                24V30FT     NATURAL GAS   \n",
      "448561      ELECTRIC             V                84V40EL        ELECTRIC   \n",
      "448562  TANKLESS GAS  TANKLESS GAS            RTGH-199DVL     ULTRA LONOX   \n",
      "448563      ELECTRIC           POU                 EGSP20        ELECTRIC   \n",
      "\n",
      "       Product Number Ordered Quantity Gross Sales Qty         Sales Org Name  \n",
      "0              653235              8.0               8  WATER HEATER DIVISION  \n",
      "1             SP12941              1.0               1  WATER HEATER DIVISION  \n",
      "2              659060              1.0               1  WATER HEATER DIVISION  \n",
      "3              659145              1.0               1  WATER HEATER DIVISION  \n",
      "4              650265              1.0               1  WATER HEATER DIVISION  \n",
      "...               ...              ...             ...                    ...  \n",
      "448559         641836              1.0               0  WATER HEATER DIVISION  \n",
      "448560         640754              1.0               0  WATER HEATER DIVISION  \n",
      "448561         644486              NaN              -1  WATER HEATER DIVISION  \n",
      "448562         672533              1.0               0  WATER HEATER DIVISION  \n",
      "448563         494401              1.0               0  WATER HEATER DIVISION  \n",
      "\n",
      "[448564 rows x 24 columns])\n",
      "(18,         Year Month Name         Week Week Start Date  4 Week Ago Forecast  \\\n",
      "0       2018    January  2018 Week01      2018-01-01                  NaN   \n",
      "1       2018    January  2018 Week01      2018-01-01                  NaN   \n",
      "2       2018    January  2018 Week01      2018-01-01                  NaN   \n",
      "3       2018    January  2018 Week01      2018-01-01                  NaN   \n",
      "4       2018    January  2018 Week01      2018-01-01                  NaN   \n",
      "...      ...        ...          ...             ...                  ...   \n",
      "448467  2018   December  2018 Week53      2018-12-30                  NaN   \n",
      "448468  2018   December  2018 Week53      2018-12-30                  NaN   \n",
      "448469  2018   December  2018 Week53      2018-12-30                  NaN   \n",
      "448470  2018   December  2018 Week53      2018-12-30                  NaN   \n",
      "448471  2018   December  2018 Week53      2018-12-30                  NaN   \n",
      "\n",
      "       Plant Location Name Sales Channel Code                   Customer Name  \\\n",
      "0         PLANT MONTGOMERY             CANADA  RHEEM CANADA WHSE BRAMPTON 550   \n",
      "1         PLANT MONTGOMERY             CANADA  RHEEM CANADA WHSE BRAMPTON 550   \n",
      "2         PLANT MONTGOMERY             CANADA  RHEEM CANADA WHSE BRAMPTON 550   \n",
      "3         PLANT MONTGOMERY             ENERGY          KY ASSOC OF ELEC COOPS   \n",
      "4         PLANT MONTGOMERY             ENERGY          KY ASSOC OF ELEC COOPS   \n",
      "...                    ...                ...                             ...   \n",
      "448467         WHSE LAREDO          WHOLESALE                        GRAINGER   \n",
      "448468      WHSE SOUTHEAST          WHOLESALE       PLUMBING DISTRIBUTORS INC   \n",
      "448469      WHSE SOUTHEAST          WHOLESALE       PLUMBING DISTRIBUTORS INC   \n",
      "448470      WHSE SOUTHEAST          WHOLESALE       PLUMBING DISTRIBUTORS INC   \n",
      "448471      WHSE SOUTHEAST          WHOLESALE        SOUTHERN PIPE AND SUPPLY   \n",
      "\n",
      "       Ship To Location State Ship To Location City  ...  Product Group  \\\n",
      "0                         NaN              BRAMPTON  ...  WATER HEATING   \n",
      "1                         NaN                   NaN  ...  WATER HEATING   \n",
      "2                         NaN                   NaN  ...  WATER HEATING   \n",
      "3                          IL               Decatur  ...  WATER HEATING   \n",
      "4                          KY            Louisville  ...  WATER HEATING   \n",
      "...                       ...                   ...  ...            ...   \n",
      "448467                     SC          FOUNTAIN INN  ...  WATER HEATING   \n",
      "448468                     GA         LAWRENCEVILLE  ...  WATER HEATING   \n",
      "448469                     GA         LAWRENCEVILLE  ...  WATER HEATING   \n",
      "448470                     GA         LAWRENCEVILLE  ...  WATER HEATING   \n",
      "448471                     GA               LILBURN  ...  WATER HEATING   \n",
      "\n",
      "           Product Market      Product Class    Family Group  \\\n",
      "0              COMMERCIAL             HE GAS   HE SPIDERFIRE   \n",
      "1              COMMERCIAL           ELECTRIC       IMMERSION   \n",
      "2             RESIDENTIAL           ELECTRIC        MARATHON   \n",
      "3             RESIDENTIAL           ELECTRIC        MARATHON   \n",
      "4              COMMERCIAL           ELECTRIC   MARATHON SPEC   \n",
      "...                   ...                ...             ...   \n",
      "448467  TANKLESS ELECTRIC  TANKLESS ELECTRIC  EE RESIDENTIAL   \n",
      "448468         COMMERCIAL           ELECTRIC             POU   \n",
      "448469         COMMERCIAL           ELECTRIC             POU   \n",
      "448470         COMMERCIAL                GAS      HEAVY DUTY   \n",
      "448471         COMMERCIAL                GAS      LIGHT DUTY   \n",
      "\n",
      "       Family Type/Base Model       Fuel Type Product Number Ordered Quantity  \\\n",
      "0                      GHE100  LIQUID PROPANE         629001              2.0   \n",
      "1                         E50        ELECTRIC         402109              NaN   \n",
      "2                        MR75        ELECTRIC         473536              NaN   \n",
      "3                        MR30        ELECTRIC         595771              1.0   \n",
      "4                    MHD105-3        ELECTRIC         664675              8.0   \n",
      "...                       ...             ...            ...              ...   \n",
      "448467                RTEX-04        ELECTRIC         682990              5.0   \n",
      "448468                 EGSP10        ELECTRIC         249971              1.0   \n",
      "448469                 EGSP20        ELECTRIC         256979              1.0   \n",
      "448470                 G100MF     NATURAL GAS         397269              1.0   \n",
      "448471                G100-80     NATURAL GAS         562094              1.0   \n",
      "\n",
      "       Gross Sales Qty         Sales Org Name  \n",
      "0                    0  WATER HEATER DIVISION  \n",
      "1                   13  WATER HEATER DIVISION  \n",
      "2                   63  WATER HEATER DIVISION  \n",
      "3                    0  WATER HEATER DIVISION  \n",
      "4                    0  WATER HEATER DIVISION  \n",
      "...                ...                    ...  \n",
      "448467               0  WATER HEATER DIVISION  \n",
      "448468               0  WATER HEATER DIVISION  \n",
      "448469               0  WATER HEATER DIVISION  \n",
      "448470               0  WATER HEATER DIVISION  \n",
      "448471               0  WATER HEATER DIVISION  \n",
      "\n",
      "[448472 rows x 24 columns])\n",
      "(19,           SrNo  Year Month Name         Week Week Start Date  \\\n",
      "0            1  2019    January  2019 Week01        1/1/2019   \n",
      "1            2  2019    January  2019 Week01        1/1/2019   \n",
      "2            3  2019    January  2019 Week01        1/1/2019   \n",
      "3            4  2019    January  2019 Week01        1/1/2019   \n",
      "4            5  2019    January  2019 Week01        1/1/2019   \n",
      "...        ...   ...        ...          ...             ...   \n",
      "465342  465343  2019   December  2019 Week53      12/29/2019   \n",
      "465343  465344  2019   December  2019 Week53      12/29/2019   \n",
      "465344  465345  2019   December  2019 Week53      12/29/2019   \n",
      "465345  465346  2019   December  2019 Week53      12/29/2019   \n",
      "465346  465347  2019   December  2019 Week53      12/29/2019   \n",
      "\n",
      "        4 Week Ago Forecast Plant Location Name Sales Channel Code  \\\n",
      "0                       NaN    PLANT MONTGOMERY             CANADA   \n",
      "1                       NaN    PLANT MONTGOMERY             CANADA   \n",
      "2                       NaN    PLANT MONTGOMERY             CANADA   \n",
      "3                       NaN    PLANT MONTGOMERY             CANADA   \n",
      "4                       NaN    PLANT MONTGOMERY             CANADA   \n",
      "...                     ...                 ...                ...   \n",
      "465342                  NaN      WHSE SOUTHEAST          WHOLESALE   \n",
      "465343                  NaN      WHSE SOUTHEAST          WHOLESALE   \n",
      "465344                  NaN      WHSE SOUTHEAST          WHOLESALE   \n",
      "465345                  NaN      WHSE SOUTHEAST          WHOLESALE   \n",
      "465346                  NaN      WHSE SOUTHEAST          WHOLESALE   \n",
      "\n",
      "                         Customer Name Ship To Location State  ...  \\\n",
      "0       RHEEM CANADA WHSE BRAMPTON 550                    NaN  ...   \n",
      "1       RHEEM CANADA WHSE BRAMPTON 550                    NaN  ...   \n",
      "2       RHEEM CANADA WHSE BRAMPTON 550                    NaN  ...   \n",
      "3       RHEEM CANADA WHSE BRAMPTON 550                    NaN  ...   \n",
      "4       RHEEM CANADA WHSE BRAMPTON 550                    NaN  ...   \n",
      "...                                ...                    ...  ...   \n",
      "465342        SOUTHERN PIPE AND SUPPLY                     TN  ...   \n",
      "465343       WINWHOLESALE INCORPORATED                     AZ  ...   \n",
      "465344       WINWHOLESALE INCORPORATED                     FL  ...   \n",
      "465345       WINWHOLESALE INCORPORATED                     FL  ...   \n",
      "465346  WOOL WHOLESALE PLUMBING SUPPLY                     FL  ...   \n",
      "\n",
      "        Product Group Product Market    Product Class   Family Group  \\\n",
      "0       WATER HEATING     COMMERCIAL         ELECTRIC        ECLIPSE   \n",
      "1       WATER HEATING     COMMERCIAL         ELECTRIC      IMMERSION   \n",
      "2       WATER HEATING     COMMERCIAL         ELECTRIC      IMMERSION   \n",
      "3       WATER HEATING     COMMERCIAL         ELECTRIC        SURFACE   \n",
      "4       WATER HEATING     COMMERCIAL              GAS     HEAVY DUTY   \n",
      "...               ...            ...              ...            ...   \n",
      "465342  WATER HEATING     COMMERCIAL           HE GAS  HE SPIDERFIRE   \n",
      "465343  WATER HEATING     COMMERCIAL  STORAGE PRODUCT  LARGE STORAGE   \n",
      "465344  WATER HEATING     COMMERCIAL         ELECTRIC     LIGHT DUTY   \n",
      "465345  WATER HEATING     COMMERCIAL         ELECTRIC        POU COM   \n",
      "465346  WATER HEATING     COMMERCIAL              GAS     HEAVY DUTY   \n",
      "\n",
      "        Family Type/Base Model    Fuel Type Product Number Ordered Quantity  \\\n",
      "0                         ME85     ELECTRIC         501307              0.0   \n",
      "1                         E120     ELECTRIC         402123              4.0   \n",
      "2                          E50     ELECTRIC         402109              1.0   \n",
      "3                        ES120     ELECTRIC         402154             19.0   \n",
      "4                     G100MF-1  NATURAL GAS         520865              2.0   \n",
      "...                        ...          ...            ...              ...   \n",
      "465342                  GHE125  ULTRA LONOX         627731              NaN   \n",
      "465343                  LST320     ELECTRIC         429298              NaN   \n",
      "465344               ELDS30-TB     ELECTRIC         684048              1.0   \n",
      "465345                EGSP30-C     ELECTRIC         664897              1.0   \n",
      "465346                    GX90  NATURAL GAS         485454              1.0   \n",
      "\n",
      "       Gross Sales Qty         Sales Org Name  \n",
      "0                    0  WATER HEATER DIVISION  \n",
      "1                    0  WATER HEATER DIVISION  \n",
      "2                    0  WATER HEATER DIVISION  \n",
      "3                    0  WATER HEATER DIVISION  \n",
      "4                    0  WATER HEATER DIVISION  \n",
      "...                ...                    ...  \n",
      "465342               1  WATER HEATER DIVISION  \n",
      "465343               1  WATER HEATER DIVISION  \n",
      "465344               1  WATER HEATER DIVISION  \n",
      "465345               0  WATER HEATER DIVISION  \n",
      "465346               1  WATER HEATER DIVISION  \n",
      "\n",
      "[465347 rows x 25 columns])\n",
      "(20,         Year Month Name         Week Week Start Date  4 Week Ago Forecast  \\\n",
      "0       2020    January  2020 Week01      2020-01-01                  NaN   \n",
      "1       2020    January  2020 Week01      2020-01-01                  NaN   \n",
      "2       2020    January  2020 Week01      2020-01-01                  NaN   \n",
      "3       2020    January  2020 Week01      2020-01-01                  NaN   \n",
      "4       2020    January  2020 Week01      2020-01-01                  NaN   \n",
      "...      ...        ...          ...             ...                  ...   \n",
      "504428  2020   December  2020 Week53      2020-12-27                  NaN   \n",
      "504429  2020   December  2020 Week53      2020-12-27                  NaN   \n",
      "504430  2020   December  2020 Week53      2020-12-27                  NaN   \n",
      "504431  2020   December  2020 Week53      2020-12-27                  NaN   \n",
      "504432  2020   December  2020 Week53      2020-12-27                  NaN   \n",
      "\n",
      "       Plant Location Name Sales Channel Code                   Customer Name  \\\n",
      "0         PLANT MONTGOMERY             CANADA  RHEEM CANADA WHSE BRAMPTON 550   \n",
      "1         PLANT MONTGOMERY             CANADA  RHEEM CANADA WHSE BRAMPTON 550   \n",
      "2         PLANT MONTGOMERY             CANADA  RHEEM CANADA WHSE BRAMPTON 550   \n",
      "3         PLANT MONTGOMERY             CANADA  RHEEM CANADA WHSE BRAMPTON 550   \n",
      "4         PLANT MONTGOMERY             CANADA  RHEEM CANADA WHSE BRAMPTON 550   \n",
      "...                    ...                ...                             ...   \n",
      "504428      WHSE SOUTHEAST          WHOLESALE       WINWHOLESALE INCORPORATED   \n",
      "504429      WHSE SOUTHEAST          WHOLESALE       WINWHOLESALE INCORPORATED   \n",
      "504430      WHSE SOUTHEAST          WHOLESALE       WINWHOLESALE INCORPORATED   \n",
      "504431      WHSE SOUTHEAST          WHOLESALE       WINWHOLESALE INCORPORATED   \n",
      "504432      WHSE SOUTHEAST          WHOLESALE  WOOL WHOLESALE PLUMBING SUPPLY   \n",
      "\n",
      "       Ship To Location State Ship To Location City  ...  Product Group  \\\n",
      "0                         NaN              BRAMPTON  ...  WATER HEATING   \n",
      "1                         NaN              BRAMPTON  ...  WATER HEATING   \n",
      "2                         NaN              BRAMPTON  ...  WATER HEATING   \n",
      "3                         NaN              BRAMPTON  ...  WATER HEATING   \n",
      "4                         NaN              BRAMPTON  ...  WATER HEATING   \n",
      "...                       ...                   ...  ...            ...   \n",
      "504428                     AR         MOUNTAIN HOME  ...  WATER HEATING   \n",
      "504429                     AR         MOUNTAIN HOME  ...  WATER HEATING   \n",
      "504430                     FL         POMPANO BEACH  ...  WATER HEATING   \n",
      "504431                     NC         WINSTON SALEM  ...  WATER HEATING   \n",
      "504432                     FL               Hialeah  ...  WATER HEATING   \n",
      "\n",
      "       Product Market Product Class  Family Group Family Type/Base Model  \\\n",
      "0          COMMERCIAL      ELECTRIC     IMMERSION                    E85   \n",
      "1          COMMERCIAL      ELECTRIC       SURFACE                  ES120   \n",
      "2          COMMERCIAL           GAS    HEAVY DUTY                  G65MF   \n",
      "3          COMMERCIAL           GAS    HEAVY DUTY                  G72MF   \n",
      "4          COMMERCIAL           GAS    HEAVY DUTY                  G72MF   \n",
      "...               ...           ...           ...                    ...   \n",
      "504428     COMMERCIAL      ELECTRIC       ECLIPSE                  ME105   \n",
      "504429     COMMERCIAL      ELECTRIC       ECLIPSE                  ME105   \n",
      "504430     COMMERCIAL      ELECTRIC    LIGHT DUTY               ELD30-TB   \n",
      "504431     COMMERCIAL      ELECTRIC    LIGHT DUTY                ELD66-C   \n",
      "504432     COMMERCIAL           GAS    HEAVY DUTY                  G76MF   \n",
      "\n",
      "          Fuel Type Product Number Ordered Quantity Gross Sales Qty  \\\n",
      "0          ELECTRIC         402116              2.0               0   \n",
      "1          ELECTRIC         402154              3.0               0   \n",
      "2       NATURAL GAS         472461              3.0               0   \n",
      "3       NATURAL GAS         397504              3.0               0   \n",
      "4       NATURAL GAS         397542              1.0               0   \n",
      "...             ...            ...              ...             ...   \n",
      "504428     ELECTRIC         501789              0.0               0   \n",
      "504429     ELECTRIC         501819              0.0               0   \n",
      "504430     ELECTRIC         684239              1.0               1   \n",
      "504431     ELECTRIC         636627              NaN               1   \n",
      "504432  NATURAL GAS         396996              1.0               1   \n",
      "\n",
      "               Sales Org Name  \n",
      "0       WATER HEATER DIVISION  \n",
      "1       WATER HEATER DIVISION  \n",
      "2       WATER HEATER DIVISION  \n",
      "3       WATER HEATER DIVISION  \n",
      "4       WATER HEATER DIVISION  \n",
      "...                       ...  \n",
      "504428  WATER HEATER DIVISION  \n",
      "504429  WATER HEATER DIVISION  \n",
      "504430  WATER HEATER DIVISION  \n",
      "504431  WATER HEATER DIVISION  \n",
      "504432  WATER HEATER DIVISION  \n",
      "\n",
      "[504433 rows x 24 columns])\n",
      "(21,         Year Month Name         Week Week Start Date  4 Week Ago Forecast  \\\n",
      "0       2021    January  2021 Week01      2021-01-01                  NaN   \n",
      "1       2021    January  2021 Week01      2021-01-01                  NaN   \n",
      "2       2021    January  2021 Week01      2021-01-01                  NaN   \n",
      "3       2021    January  2021 Week01      2021-01-01                  NaN   \n",
      "4       2021    January  2021 Week01      2021-01-01                  NaN   \n",
      "...      ...        ...          ...             ...                  ...   \n",
      "500169  2021   December  2021 Week53      2021-12-26                  NaN   \n",
      "500170  2021   December  2021 Week53      2021-12-26                  NaN   \n",
      "500171  2021   December  2021 Week53      2021-12-26                  NaN   \n",
      "500172  2021   December  2021 Week53      2021-12-26                  NaN   \n",
      "500173  2021   December  2021 Week53      2021-12-26                  NaN   \n",
      "\n",
      "       Plant Location Name Sales Channel Code                   Customer Name  \\\n",
      "0         PLANT MONTGOMERY         HOME DEPOT               THD.COM DROP SHIP   \n",
      "1         PLANT MONTGOMERY         HOME DEPOT               THD.COM DROP SHIP   \n",
      "2         PLANT MONTGOMERY         HOME DEPOT               THD.COM DROP SHIP   \n",
      "3         PLANT MONTGOMERY         HOME DEPOT               THD.COM DROP SHIP   \n",
      "4         PLANT MONTGOMERY         HOME DEPOT               THD.COM DROP SHIP   \n",
      "...                    ...                ...                             ...   \n",
      "500169      WHSE SOUTHEAST          WHOLESALE       WINWHOLESALE INCORPORATED   \n",
      "500170      WHSE SOUTHEAST          WHOLESALE       WINWHOLESALE INCORPORATED   \n",
      "500171      WHSE SOUTHEAST          WHOLESALE  WOOL WHOLESALE PLUMBING SUPPLY   \n",
      "500172      WHSE SOUTHEAST          WHOLESALE  WOOL WHOLESALE PLUMBING SUPPLY   \n",
      "500173      WHSE SOUTHEAST          WHOLESALE            YOUNG SUPPLY COMPANY   \n",
      "\n",
      "       Ship To Location State Ship To Location City  ...  Product Group  \\\n",
      "0                          AZ            Cottonwood  ...  WATER HEATING   \n",
      "1                          CA          Walnut Creek  ...  WATER HEATING   \n",
      "2                          FL                DELAND  ...  WATER HEATING   \n",
      "3                          KS         Overland Park  ...  WATER HEATING   \n",
      "4                          MO           Saint Louis  ...  WATER HEATING   \n",
      "...                       ...                   ...  ...            ...   \n",
      "500169                     FL         POMPANO BEACH  ...  WATER HEATING   \n",
      "500170                     TX               EL PASO  ...  WATER HEATING   \n",
      "500171                     FL                 MIAMI  ...  WATER HEATING   \n",
      "500172                     FL                 MIAMI  ...  WATER HEATING   \n",
      "500173                     MI               LANSING  ...  WATER HEATING   \n",
      "\n",
      "       Product Market Product Class   Family Group Family Type/Base Model  \\\n",
      "0          COMMERCIAL      ELECTRIC  MARATHON SPEC                MHD75-3   \n",
      "1          COMMERCIAL      ELECTRIC  MARATHON SPEC                MHD75-3   \n",
      "2          COMMERCIAL      ELECTRIC  MARATHON SPEC                MHD75-3   \n",
      "3          COMMERCIAL      ELECTRIC  MARATHON SPEC                MHD75-3   \n",
      "4         RESIDENTIAL      ELECTRIC       MARATHON                 MR40-3   \n",
      "...               ...           ...            ...                    ...   \n",
      "500169     COMMERCIAL           GAS     HEAVY DUTY               G100MF-1   \n",
      "500170     COMMERCIAL        HE GAS      HE TRITON                GHE100B   \n",
      "500171     COMMERCIAL      ELECTRIC     LIGHT DUTY               ELD52-TB   \n",
      "500172     COMMERCIAL        HE GAS      HE TRITON                GHE100B   \n",
      "500173     COMMERCIAL        HE GAS      HE TRITON                GHE100B   \n",
      "\n",
      "          Fuel Type Product Number Ordered Quantity Gross Sales Qty  \\\n",
      "0          ELECTRIC         664590              1.0               0   \n",
      "1          ELECTRIC         664590              1.0               0   \n",
      "2          ELECTRIC         664590              1.0               0   \n",
      "3          ELECTRIC         664590              1.0               0   \n",
      "4          ELECTRIC         664453              1.0               0   \n",
      "...             ...            ...              ...             ...   \n",
      "500169  NATURAL GAS         520629              0.0               0   \n",
      "500170  ULTRA LONOX         685946              2.0               2   \n",
      "500171     ELECTRIC         683676              NaN               6   \n",
      "500172  ULTRA LONOX         685946              NaN               1   \n",
      "500173  ULTRA LONOX         685946              1.0               1   \n",
      "\n",
      "               Sales Org Name  \n",
      "0       WATER HEATER DIVISION  \n",
      "1       WATER HEATER DIVISION  \n",
      "2       WATER HEATER DIVISION  \n",
      "3       WATER HEATER DIVISION  \n",
      "4       WATER HEATER DIVISION  \n",
      "...                       ...  \n",
      "500169  WATER HEATER DIVISION  \n",
      "500170  WATER HEATER DIVISION  \n",
      "500171  WATER HEATER DIVISION  \n",
      "500172  WATER HEATER DIVISION  \n",
      "500173  WATER HEATER DIVISION  \n",
      "\n",
      "[500174 rows x 24 columns])\n",
      "(22,         Year Month Name         Week Week Start Date  4 Week Ago Forecast  \\\n",
      "0       2022    January  2022 Week01      2022-01-01                  NaN   \n",
      "1       2022    January  2022 Week01      2022-01-01                  NaN   \n",
      "2       2022    January  2022 Week01      2022-01-01                  NaN   \n",
      "3       2022    January  2022 Week01      2022-01-01                  NaN   \n",
      "4       2022    January  2022 Week01      2022-01-01                  NaN   \n",
      "...      ...        ...          ...             ...                  ...   \n",
      "409512  2022   December  2022 Week53      2022-12-25                  NaN   \n",
      "409513  2022   December  2022 Week53      2022-12-25                  NaN   \n",
      "409514  2022   December  2022 Week53      2022-12-25                  NaN   \n",
      "409515  2022   December  2022 Week53      2022-12-25                  NaN   \n",
      "409516  2022   December  2022 Week53      2022-12-25                  NaN   \n",
      "\n",
      "       Plant Location Name Sales Channel Code  \\\n",
      "0         PLANT MONTGOMERY         HOME DEPOT   \n",
      "1         PLANT MONTGOMERY         HOME DEPOT   \n",
      "2         PLANT MONTGOMERY         HOME DEPOT   \n",
      "3        PLANT WH MEXICALI         HOME DEPOT   \n",
      "4        PLANT WH MEXICALI         HOME DEPOT   \n",
      "...                    ...                ...   \n",
      "409512      WHSE SOUTHEAST          WHOLESALE   \n",
      "409513      WHSE SOUTHEAST          WHOLESALE   \n",
      "409514      WHSE SOUTHEAST          WHOLESALE   \n",
      "409515   WHSE SPICE ISLAND          WHOLESALE   \n",
      "409516   WHSE SPICE ISLAND          WHOLESALE   \n",
      "\n",
      "                          Customer Name Ship To Location State  \\\n",
      "0                     THD.COM DROP SHIP                     LA   \n",
      "1                     THD.COM DROP SHIP                     OH   \n",
      "2                     THD.COM DROP SHIP                     PA   \n",
      "3                     THD.COM DROP SHIP                     CO   \n",
      "4                     THD.COM DROP SHIP                     GA   \n",
      "...                                 ...                    ...   \n",
      "409512        WINWHOLESALE INCORPORATED                     MO   \n",
      "409513        WINWHOLESALE INCORPORATED                     NC   \n",
      "409514        WINWHOLESALE INCORPORATED                     NC   \n",
      "409515  WHSE WHD BG TRUCKING PUBLIC 736                     CA   \n",
      "409516  WHSE WHD BG TRUCKING PUBLIC 736                     CA   \n",
      "\n",
      "       Ship To Location City  ...  Product Group Product Market Product Class  \\\n",
      "0                    VIDALIA  ...  WATER HEATING    RESIDENTIAL      ELECTRIC   \n",
      "1                   DENNISON  ...  WATER HEATING     COMMERCIAL      ELECTRIC   \n",
      "2               Wilkes-Barre  ...  WATER HEATING    RESIDENTIAL      ELECTRIC   \n",
      "3                  Lone Tree  ...  WATER HEATING    RESIDENTIAL           GAS   \n",
      "4                     CANTON  ...  WATER HEATING    RESIDENTIAL           GAS   \n",
      "...                      ...  ...            ...            ...           ...   \n",
      "409512             Grandview  ...  WATER HEATING     COMMERCIAL      ELECTRIC   \n",
      "409513               RALEIGH  ...  WATER HEATING     COMMERCIAL      ELECTRIC   \n",
      "409514         WINSTON SALEM  ...  WATER HEATING     COMMERCIAL      ELECTRIC   \n",
      "409515              CALEXICO  ...  WATER HEATING    RESIDENTIAL      HEATPUMP   \n",
      "409516              CALEXICO  ...  WATER HEATING    RESIDENTIAL      HEATPUMP   \n",
      "\n",
      "        Family Group Family Type/Base Model    Fuel Type Product Number  \\\n",
      "0           MARATHON                 MR40-3     ELECTRIC         664453   \n",
      "1            ECLIPSE                   ME85     ELECTRIC         690742   \n",
      "2           MARATHON                 MR40-3     ELECTRIC         664453   \n",
      "3        ATMOSPHERIC              24VT50FEV  NATURAL GAS         693828   \n",
      "4        ATMOSPHERIC              24VT50FEV  NATURAL GAS         693828   \n",
      "...              ...                    ...          ...            ...   \n",
      "409512    LIGHT DUTY             ELDS52-FTB     ELECTRIC         683324   \n",
      "409513    LIGHT DUTY              ELD40-FTB     ELECTRIC         683430   \n",
      "409514    LIGHT DUTY               ELD52-TB     ELECTRIC         700236   \n",
      "409515      HEATPUMP                 HB50G5     ELECTRIC         700455   \n",
      "409516      HEATPUMP                 HB50G5     ELECTRIC         700467   \n",
      "\n",
      "       Ordered Quantity Gross Sales Qty         Sales Org Name  \n",
      "0                   1.0               0  WATER HEATER DIVISION  \n",
      "1                   1.0               0  WATER HEATER DIVISION  \n",
      "2                   4.0               0  WATER HEATER DIVISION  \n",
      "3                   1.0               0  WATER HEATER DIVISION  \n",
      "4                   1.0               0  WATER HEATER DIVISION  \n",
      "...                 ...             ...                    ...  \n",
      "409512              1.0               1  WATER HEATER DIVISION  \n",
      "409513              1.0               0  WATER HEATER DIVISION  \n",
      "409514              2.0               2  WATER HEATER DIVISION  \n",
      "409515             79.0               0  WATER HEATER DIVISION  \n",
      "409516             51.0               0  WATER HEATER DIVISION  \n",
      "\n",
      "[409517 rows x 24 columns])\n",
      "(23,         Year Month Name         Week Week Start Date  4 Week Ago Forecast  \\\n",
      "0       2023    January  2023 Week01        1/1/2023                  NaN   \n",
      "1       2023    January  2023 Week01        1/1/2023                  NaN   \n",
      "2       2023    January  2023 Week01        1/1/2023                  NaN   \n",
      "3       2023    January  2023 Week01        1/1/2023                  NaN   \n",
      "4       2023    January  2023 Week01        1/1/2023                  NaN   \n",
      "...      ...        ...          ...             ...                  ...   \n",
      "457747  2023   December  2023 Week53      12/31/2023                  NaN   \n",
      "457748  2023   December  2023 Week53      12/31/2023                  NaN   \n",
      "457749  2023   December  2023 Week53      12/31/2023                  NaN   \n",
      "457750  2023   December  2023 Week53      12/31/2023                  NaN   \n",
      "457751  2023   December  2023 Week53      12/31/2023                  NaN   \n",
      "\n",
      "       Plant Location Name Sales Channel Code                 Customer Name  \\\n",
      "0                CARGOQUIN         HOME DEPOT  THD.COM DISTRIBUTION CENTERS   \n",
      "1                CARGOQUIN         HOME DEPOT  THD.COM DISTRIBUTION CENTERS   \n",
      "2                CARGOQUIN         HOME DEPOT  THD.COM DISTRIBUTION CENTERS   \n",
      "3                CARGOQUIN         HOME DEPOT                THE HOME DEPOT   \n",
      "4                CARGOQUIN         HOME DEPOT                THE HOME DEPOT   \n",
      "...                    ...                ...                           ...   \n",
      "457747         WHSE LAREDO             RETAIL                       WAYFAIR   \n",
      "457748         WHSE LAREDO             RETAIL                       WAYFAIR   \n",
      "457749         WHSE LAREDO          WHOLESALE                     BUILD.COM   \n",
      "457750      WHSE SOUTHEAST         HOME DEPOT             THD.COM DROP SHIP   \n",
      "457751      WHSE SOUTHEAST          WHOLESALE               PLUMB SUPPLY CO   \n",
      "\n",
      "       Ship To Location State Ship To Location City  ...  \\\n",
      "0                          CA                Perris  ...   \n",
      "1                          GA          Locust Grove  ...   \n",
      "2                          TX                DALLAS  ...   \n",
      "3                          IL                Joliet  ...   \n",
      "4                          IL                Joliet  ...   \n",
      "...                       ...                   ...  ...   \n",
      "457747                     CA             San Diego  ...   \n",
      "457748                     SC            Charleston  ...   \n",
      "457749                     AR                Biscoe  ...   \n",
      "457750                     TN           Clarksville  ...   \n",
      "457751                     IA               DUBUQUE  ...   \n",
      "\n",
      "       Family Type/Base Model    Fuel Type Product Number  Ordered Quantity  \\\n",
      "0                      HB65G5     ELECTRIC         700489              10.0   \n",
      "1                      HB65G5     ELECTRIC         700489              43.0   \n",
      "2                      HB65G5     ELECTRIC         700489              24.0   \n",
      "3                  43VP50E2SC        LONOX         625683               3.0   \n",
      "4                    24V30FEV        LONOX         640990               1.0   \n",
      "...                       ...          ...            ...               ...   \n",
      "457747             RTG-199DVL  ULTRA LONOX         671338               1.0   \n",
      "457748              RTG-160XL  NATURAL GAS         701246               1.0   \n",
      "457749             RTG-160DVL  ULTRA LONOX         691305               1.0   \n",
      "457750              ELD80-FTB     ELECTRIC         690889               1.0   \n",
      "457751                 LST260     ELECTRIC         429274               NaN   \n",
      "\n",
      "       Gross Sales Qty         Sales Org Name Unnamed: 24 Unnamed: 25  \\\n",
      "0                    0  WATER HEATER DIVISION         NaN         NaN   \n",
      "1                    0  WATER HEATER DIVISION         NaN         NaN   \n",
      "2                    0  WATER HEATER DIVISION         NaN         NaN   \n",
      "3                    0  WATER HEATER DIVISION         NaN         NaN   \n",
      "4                    0  WATER HEATER DIVISION         NaN         NaN   \n",
      "...                ...                    ...         ...         ...   \n",
      "457747               0  WATER HEATER DIVISION         NaN         NaN   \n",
      "457748               0  WATER HEATER DIVISION         NaN         NaN   \n",
      "457749               0  WATER HEATER DIVISION         NaN         NaN   \n",
      "457750               0  WATER HEATER DIVISION         NaN         NaN   \n",
      "457751               2  WATER HEATER DIVISION         NaN         NaN   \n",
      "\n",
      "       Unnamed: 26 Unnamed: 27  \n",
      "0              NaN         NaN  \n",
      "1              NaN         NaN  \n",
      "2              NaN         NaN  \n",
      "3              NaN         NaN  \n",
      "4              NaN         NaN  \n",
      "...            ...         ...  \n",
      "457747         NaN         NaN  \n",
      "457748         NaN         NaN  \n",
      "457749         NaN         NaN  \n",
      "457750         NaN         NaN  \n",
      "457751         NaN         NaN  \n",
      "\n",
      "[457752 rows x 28 columns])\n"
     ]
    }
   ],
   "source": [
    "for item in dataframes.items():\n",
    "    print(item)"
   ]
  },
  {
   "cell_type": "code",
   "execution_count": 7,
   "metadata": {},
   "outputs": [],
   "source": [
    "from pathlib import Path\n",
    "new_file_path = Path('D:/Desktop/Data/concatCSV.csv')\n",
    "\n",
    "if not new_file_path.exists() : \n",
    "    new_file_path.touch()\n",
    "\n",
    "combined_df = pd.concat(dataframes.values(), ignore_index=True)\n",
    "combined_df.to_csv(new_file_path)\n",
    "    \n"
   ]
  },
  {
   "cell_type": "code",
   "execution_count": 8,
   "metadata": {},
   "outputs": [
    {
     "data": {
      "text/plain": [
       "Index(['Year', 'Month Name', 'Week', 'Week Start Date', '4 Week Ago Forecast',\n",
       "       'Plant Location Name', 'Sales Channel Code', 'Customer Name',\n",
       "       'Ship To Location State', 'Ship To Location City', 'Report Group ID',\n",
       "       'Ship To Location Country', 'Store Number', 'Site Number',\n",
       "       'Product Group', 'Product Market', 'Product Class', 'Family Group',\n",
       "       'Family Type/Base Model', 'Fuel Type', 'Product Number',\n",
       "       'Ordered Quantity', 'Gross Sales Qty', 'Sales Org Name', 'SrNo',\n",
       "       'Unnamed: 24', 'Unnamed: 25', 'Unnamed: 26', 'Unnamed: 27'],\n",
       "      dtype='object')"
      ]
     },
     "execution_count": 8,
     "metadata": {},
     "output_type": "execute_result"
    }
   ],
   "source": [
    "combined_df.columns"
   ]
  },
  {
   "cell_type": "code",
   "execution_count": 9,
   "metadata": {},
   "outputs": [],
   "source": [
    "filtered_df = combined_df[['Product Number','Year','Week','Month Name','Week Start Date','Plant Location Name','Ship To Location Country','Ship To Location State','Ship To Location City','Ordered Quantity','Family Group','Product Class','Product Market','Product Group']]"
   ]
  },
  {
   "cell_type": "code",
   "execution_count": 10,
   "metadata": {},
   "outputs": [
    {
     "name": "stdout",
     "output_type": "stream",
     "text": [
      "<class 'pandas.core.frame.DataFrame'>\n",
      "RangeIndex: 3690316 entries, 0 to 3690315\n",
      "Data columns (total 14 columns):\n",
      " #   Column                    Dtype  \n",
      "---  ------                    -----  \n",
      " 0   Product Number            object \n",
      " 1   Year                      int64  \n",
      " 2   Week                      object \n",
      " 3   Month Name                object \n",
      " 4   Week Start Date           object \n",
      " 5   Plant Location Name       object \n",
      " 6   Ship To Location Country  object \n",
      " 7   Ship To Location State    object \n",
      " 8   Ship To Location City     object \n",
      " 9   Ordered Quantity          float64\n",
      " 10  Family Group              object \n",
      " 11  Product Class             object \n",
      " 12  Product Market            object \n",
      " 13  Product Group             object \n",
      "dtypes: float64(1), int64(1), object(12)\n",
      "memory usage: 394.2+ MB\n"
     ]
    }
   ],
   "source": [
    "filtered_df.info()"
   ]
  },
  {
   "cell_type": "code",
   "execution_count": 11,
   "metadata": {},
   "outputs": [
    {
     "data": {
      "text/html": [
       "<div>\n",
       "<style scoped>\n",
       "    .dataframe tbody tr th:only-of-type {\n",
       "        vertical-align: middle;\n",
       "    }\n",
       "\n",
       "    .dataframe tbody tr th {\n",
       "        vertical-align: top;\n",
       "    }\n",
       "\n",
       "    .dataframe thead th {\n",
       "        text-align: right;\n",
       "    }\n",
       "</style>\n",
       "<table border=\"1\" class=\"dataframe\">\n",
       "  <thead>\n",
       "    <tr style=\"text-align: right;\">\n",
       "      <th></th>\n",
       "      <th>Product Number</th>\n",
       "      <th>Year</th>\n",
       "      <th>Week</th>\n",
       "      <th>Month Name</th>\n",
       "      <th>Week Start Date</th>\n",
       "      <th>Plant Location Name</th>\n",
       "      <th>Ship To Location Country</th>\n",
       "      <th>Ship To Location State</th>\n",
       "      <th>Ship To Location City</th>\n",
       "      <th>Ordered Quantity</th>\n",
       "      <th>Family Group</th>\n",
       "      <th>Product Class</th>\n",
       "      <th>Product Market</th>\n",
       "      <th>Product Group</th>\n",
       "    </tr>\n",
       "  </thead>\n",
       "  <tbody>\n",
       "    <tr>\n",
       "      <th>0</th>\n",
       "      <td>664453</td>\n",
       "      <td>2016</td>\n",
       "      <td>2016 Week01</td>\n",
       "      <td>January</td>\n",
       "      <td>2016-01-01</td>\n",
       "      <td>PLANT MONTGOMERY</td>\n",
       "      <td>US</td>\n",
       "      <td>GA</td>\n",
       "      <td>Evans</td>\n",
       "      <td>1.0</td>\n",
       "      <td>MARATHON</td>\n",
       "      <td>ELECTRIC</td>\n",
       "      <td>RESIDENTIAL</td>\n",
       "      <td>WATER HEATING</td>\n",
       "    </tr>\n",
       "    <tr>\n",
       "      <th>1</th>\n",
       "      <td>636351</td>\n",
       "      <td>2016</td>\n",
       "      <td>2016 Week01</td>\n",
       "      <td>January</td>\n",
       "      <td>2016-01-01</td>\n",
       "      <td>PLANT MONTGOMERY</td>\n",
       "      <td>US</td>\n",
       "      <td>IL</td>\n",
       "      <td>Orland Park</td>\n",
       "      <td>1.0</td>\n",
       "      <td>ATMOSPHERIC</td>\n",
       "      <td>GAS</td>\n",
       "      <td>RESIDENTIAL</td>\n",
       "      <td>WATER HEATING</td>\n",
       "    </tr>\n",
       "    <tr>\n",
       "      <th>2</th>\n",
       "      <td>664606</td>\n",
       "      <td>2016</td>\n",
       "      <td>2016 Week01</td>\n",
       "      <td>January</td>\n",
       "      <td>2016-01-01</td>\n",
       "      <td>PLANT MONTGOMERY</td>\n",
       "      <td>US</td>\n",
       "      <td>IN</td>\n",
       "      <td>Jasper</td>\n",
       "      <td>1.0</td>\n",
       "      <td>MARATHON SPEC</td>\n",
       "      <td>ELECTRIC</td>\n",
       "      <td>COMMERCIAL</td>\n",
       "      <td>WATER HEATING</td>\n",
       "    </tr>\n",
       "    <tr>\n",
       "      <th>3</th>\n",
       "      <td>635880</td>\n",
       "      <td>2016</td>\n",
       "      <td>2016 Week01</td>\n",
       "      <td>January</td>\n",
       "      <td>2016-01-01</td>\n",
       "      <td>PLANT MONTGOMERY</td>\n",
       "      <td>US</td>\n",
       "      <td>MA</td>\n",
       "      <td>Leominster</td>\n",
       "      <td>1.0</td>\n",
       "      <td>MARATHON</td>\n",
       "      <td>ELECTRIC</td>\n",
       "      <td>RESIDENTIAL</td>\n",
       "      <td>WATER HEATING</td>\n",
       "    </tr>\n",
       "    <tr>\n",
       "      <th>4</th>\n",
       "      <td>473369</td>\n",
       "      <td>2016</td>\n",
       "      <td>2016 Week01</td>\n",
       "      <td>January</td>\n",
       "      <td>2016-01-01</td>\n",
       "      <td>PLANT MONTGOMERY</td>\n",
       "      <td>US</td>\n",
       "      <td>PA</td>\n",
       "      <td>COATESVILLE</td>\n",
       "      <td>1.0</td>\n",
       "      <td>MARATHON</td>\n",
       "      <td>ELECTRIC</td>\n",
       "      <td>RESIDENTIAL</td>\n",
       "      <td>WATER HEATING</td>\n",
       "    </tr>\n",
       "  </tbody>\n",
       "</table>\n",
       "</div>"
      ],
      "text/plain": [
       "  Product Number  Year         Week Month Name Week Start Date  \\\n",
       "0         664453  2016  2016 Week01    January      2016-01-01   \n",
       "1         636351  2016  2016 Week01    January      2016-01-01   \n",
       "2         664606  2016  2016 Week01    January      2016-01-01   \n",
       "3         635880  2016  2016 Week01    January      2016-01-01   \n",
       "4         473369  2016  2016 Week01    January      2016-01-01   \n",
       "\n",
       "  Plant Location Name Ship To Location Country Ship To Location State  \\\n",
       "0    PLANT MONTGOMERY                       US                     GA   \n",
       "1    PLANT MONTGOMERY                       US                     IL   \n",
       "2    PLANT MONTGOMERY                       US                     IN   \n",
       "3    PLANT MONTGOMERY                       US                     MA   \n",
       "4    PLANT MONTGOMERY                       US                     PA   \n",
       "\n",
       "  Ship To Location City  Ordered Quantity   Family Group Product Class  \\\n",
       "0                 Evans               1.0       MARATHON      ELECTRIC   \n",
       "1           Orland Park               1.0    ATMOSPHERIC           GAS   \n",
       "2                Jasper               1.0  MARATHON SPEC      ELECTRIC   \n",
       "3            Leominster               1.0       MARATHON      ELECTRIC   \n",
       "4           COATESVILLE               1.0       MARATHON      ELECTRIC   \n",
       "\n",
       "  Product Market  Product Group  \n",
       "0    RESIDENTIAL  WATER HEATING  \n",
       "1    RESIDENTIAL  WATER HEATING  \n",
       "2     COMMERCIAL  WATER HEATING  \n",
       "3    RESIDENTIAL  WATER HEATING  \n",
       "4    RESIDENTIAL  WATER HEATING  "
      ]
     },
     "execution_count": 11,
     "metadata": {},
     "output_type": "execute_result"
    }
   ],
   "source": [
    "filtered_df.head()"
   ]
  },
  {
   "cell_type": "code",
   "execution_count": 12,
   "metadata": {},
   "outputs": [
    {
     "name": "stdout",
     "output_type": "stream",
     "text": [
      "Product Number\n",
      "False    3673792\n",
      "True       16524\n",
      "Name: count, dtype: int64\n"
     ]
    }
   ],
   "source": [
    "missing = filtered_df['Product Number'].isnull().value_counts()\n",
    "print(missing)"
   ]
  },
  {
   "cell_type": "markdown",
   "metadata": {},
   "source": [
    "# *PROCESS THE DATA*"
   ]
  },
  {
   "cell_type": "code",
   "execution_count": 13,
   "metadata": {},
   "outputs": [
    {
     "data": {
      "text/html": [
       "<div>\n",
       "<style scoped>\n",
       "    .dataframe tbody tr th:only-of-type {\n",
       "        vertical-align: middle;\n",
       "    }\n",
       "\n",
       "    .dataframe tbody tr th {\n",
       "        vertical-align: top;\n",
       "    }\n",
       "\n",
       "    .dataframe thead th {\n",
       "        text-align: right;\n",
       "    }\n",
       "</style>\n",
       "<table border=\"1\" class=\"dataframe\">\n",
       "  <thead>\n",
       "    <tr style=\"text-align: right;\">\n",
       "      <th></th>\n",
       "      <th>Product Number</th>\n",
       "      <th>Year</th>\n",
       "      <th>Week</th>\n",
       "      <th>Month Name</th>\n",
       "      <th>Week Start Date</th>\n",
       "      <th>Plant Location Name</th>\n",
       "      <th>Ship To Location Country</th>\n",
       "      <th>Ship To Location State</th>\n",
       "      <th>Ship To Location City</th>\n",
       "      <th>Ordered Quantity</th>\n",
       "      <th>Family Group</th>\n",
       "      <th>Product Class</th>\n",
       "      <th>Product Market</th>\n",
       "      <th>Product Group</th>\n",
       "    </tr>\n",
       "  </thead>\n",
       "  <tbody>\n",
       "    <tr>\n",
       "      <th>8720</th>\n",
       "      <td>NaN</td>\n",
       "      <td>2016</td>\n",
       "      <td>2016 Week02</td>\n",
       "      <td>January</td>\n",
       "      <td>2016-01-03</td>\n",
       "      <td>Unspecified</td>\n",
       "      <td>CA</td>\n",
       "      <td>NaN</td>\n",
       "      <td>SUDBURY</td>\n",
       "      <td>NaN</td>\n",
       "      <td>Unspecified</td>\n",
       "      <td>Unspecified</td>\n",
       "      <td>Unspecified</td>\n",
       "      <td>Unspecified</td>\n",
       "    </tr>\n",
       "    <tr>\n",
       "      <th>8721</th>\n",
       "      <td>NaN</td>\n",
       "      <td>2016</td>\n",
       "      <td>2016 Week02</td>\n",
       "      <td>January</td>\n",
       "      <td>2016-01-03</td>\n",
       "      <td>Unspecified</td>\n",
       "      <td>US</td>\n",
       "      <td>CO</td>\n",
       "      <td>BRIGHTON</td>\n",
       "      <td>NaN</td>\n",
       "      <td>Unspecified</td>\n",
       "      <td>Unspecified</td>\n",
       "      <td>Unspecified</td>\n",
       "      <td>Unspecified</td>\n",
       "    </tr>\n",
       "    <tr>\n",
       "      <th>8722</th>\n",
       "      <td>NaN</td>\n",
       "      <td>2016</td>\n",
       "      <td>2016 Week02</td>\n",
       "      <td>January</td>\n",
       "      <td>2016-01-03</td>\n",
       "      <td>Unspecified</td>\n",
       "      <td>US</td>\n",
       "      <td>NY</td>\n",
       "      <td>Albany</td>\n",
       "      <td>NaN</td>\n",
       "      <td>Unspecified</td>\n",
       "      <td>Unspecified</td>\n",
       "      <td>Unspecified</td>\n",
       "      <td>Unspecified</td>\n",
       "    </tr>\n",
       "    <tr>\n",
       "      <th>8723</th>\n",
       "      <td>NaN</td>\n",
       "      <td>2016</td>\n",
       "      <td>2016 Week02</td>\n",
       "      <td>January</td>\n",
       "      <td>2016-01-03</td>\n",
       "      <td>Unspecified</td>\n",
       "      <td>US</td>\n",
       "      <td>GA</td>\n",
       "      <td>ATLANTA</td>\n",
       "      <td>NaN</td>\n",
       "      <td>Unspecified</td>\n",
       "      <td>Unspecified</td>\n",
       "      <td>Unspecified</td>\n",
       "      <td>Unspecified</td>\n",
       "    </tr>\n",
       "    <tr>\n",
       "      <th>8730</th>\n",
       "      <td>NaN</td>\n",
       "      <td>2016</td>\n",
       "      <td>2016 Week02</td>\n",
       "      <td>January</td>\n",
       "      <td>2016-01-03</td>\n",
       "      <td>Unspecified</td>\n",
       "      <td>NaN</td>\n",
       "      <td>NaN</td>\n",
       "      <td>NaN</td>\n",
       "      <td>NaN</td>\n",
       "      <td>Unspecified</td>\n",
       "      <td>Unspecified</td>\n",
       "      <td>Unspecified</td>\n",
       "      <td>Unspecified</td>\n",
       "    </tr>\n",
       "    <tr>\n",
       "      <th>8731</th>\n",
       "      <td>NaN</td>\n",
       "      <td>2016</td>\n",
       "      <td>2016 Week02</td>\n",
       "      <td>January</td>\n",
       "      <td>2016-01-03</td>\n",
       "      <td>Unspecified</td>\n",
       "      <td>NaN</td>\n",
       "      <td>NaN</td>\n",
       "      <td>NaN</td>\n",
       "      <td>NaN</td>\n",
       "      <td>Unspecified</td>\n",
       "      <td>Unspecified</td>\n",
       "      <td>Unspecified</td>\n",
       "      <td>Unspecified</td>\n",
       "    </tr>\n",
       "    <tr>\n",
       "      <th>8732</th>\n",
       "      <td>NaN</td>\n",
       "      <td>2016</td>\n",
       "      <td>2016 Week02</td>\n",
       "      <td>January</td>\n",
       "      <td>2016-01-03</td>\n",
       "      <td>Unspecified</td>\n",
       "      <td>NaN</td>\n",
       "      <td>NaN</td>\n",
       "      <td>NaN</td>\n",
       "      <td>NaN</td>\n",
       "      <td>Unspecified</td>\n",
       "      <td>Unspecified</td>\n",
       "      <td>Unspecified</td>\n",
       "      <td>Unspecified</td>\n",
       "    </tr>\n",
       "    <tr>\n",
       "      <th>8737</th>\n",
       "      <td>NaN</td>\n",
       "      <td>2016</td>\n",
       "      <td>2016 Week02</td>\n",
       "      <td>January</td>\n",
       "      <td>2016-01-03</td>\n",
       "      <td>Unspecified</td>\n",
       "      <td>NaN</td>\n",
       "      <td>NaN</td>\n",
       "      <td>NaN</td>\n",
       "      <td>NaN</td>\n",
       "      <td>Unspecified</td>\n",
       "      <td>Unspecified</td>\n",
       "      <td>Unspecified</td>\n",
       "      <td>Unspecified</td>\n",
       "    </tr>\n",
       "    <tr>\n",
       "      <th>8748</th>\n",
       "      <td>NaN</td>\n",
       "      <td>2016</td>\n",
       "      <td>2016 Week02</td>\n",
       "      <td>January</td>\n",
       "      <td>2016-01-03</td>\n",
       "      <td>Unspecified</td>\n",
       "      <td>NaN</td>\n",
       "      <td>NaN</td>\n",
       "      <td>NaN</td>\n",
       "      <td>NaN</td>\n",
       "      <td>Unspecified</td>\n",
       "      <td>Unspecified</td>\n",
       "      <td>Unspecified</td>\n",
       "      <td>Unspecified</td>\n",
       "    </tr>\n",
       "    <tr>\n",
       "      <th>8749</th>\n",
       "      <td>NaN</td>\n",
       "      <td>2016</td>\n",
       "      <td>2016 Week02</td>\n",
       "      <td>January</td>\n",
       "      <td>2016-01-03</td>\n",
       "      <td>Unspecified</td>\n",
       "      <td>NaN</td>\n",
       "      <td>NaN</td>\n",
       "      <td>NaN</td>\n",
       "      <td>NaN</td>\n",
       "      <td>Unspecified</td>\n",
       "      <td>Unspecified</td>\n",
       "      <td>Unspecified</td>\n",
       "      <td>Unspecified</td>\n",
       "    </tr>\n",
       "  </tbody>\n",
       "</table>\n",
       "</div>"
      ],
      "text/plain": [
       "     Product Number  Year         Week Month Name Week Start Date  \\\n",
       "8720            NaN  2016  2016 Week02    January      2016-01-03   \n",
       "8721            NaN  2016  2016 Week02    January      2016-01-03   \n",
       "8722            NaN  2016  2016 Week02    January      2016-01-03   \n",
       "8723            NaN  2016  2016 Week02    January      2016-01-03   \n",
       "8730            NaN  2016  2016 Week02    January      2016-01-03   \n",
       "8731            NaN  2016  2016 Week02    January      2016-01-03   \n",
       "8732            NaN  2016  2016 Week02    January      2016-01-03   \n",
       "8737            NaN  2016  2016 Week02    January      2016-01-03   \n",
       "8748            NaN  2016  2016 Week02    January      2016-01-03   \n",
       "8749            NaN  2016  2016 Week02    January      2016-01-03   \n",
       "\n",
       "     Plant Location Name Ship To Location Country Ship To Location State  \\\n",
       "8720         Unspecified                       CA                    NaN   \n",
       "8721         Unspecified                       US                     CO   \n",
       "8722         Unspecified                       US                     NY   \n",
       "8723         Unspecified                       US                     GA   \n",
       "8730         Unspecified                      NaN                    NaN   \n",
       "8731         Unspecified                      NaN                    NaN   \n",
       "8732         Unspecified                      NaN                    NaN   \n",
       "8737         Unspecified                      NaN                    NaN   \n",
       "8748         Unspecified                      NaN                    NaN   \n",
       "8749         Unspecified                      NaN                    NaN   \n",
       "\n",
       "     Ship To Location City  Ordered Quantity Family Group Product Class  \\\n",
       "8720               SUDBURY               NaN  Unspecified   Unspecified   \n",
       "8721              BRIGHTON               NaN  Unspecified   Unspecified   \n",
       "8722                Albany               NaN  Unspecified   Unspecified   \n",
       "8723               ATLANTA               NaN  Unspecified   Unspecified   \n",
       "8730                   NaN               NaN  Unspecified   Unspecified   \n",
       "8731                   NaN               NaN  Unspecified   Unspecified   \n",
       "8732                   NaN               NaN  Unspecified   Unspecified   \n",
       "8737                   NaN               NaN  Unspecified   Unspecified   \n",
       "8748                   NaN               NaN  Unspecified   Unspecified   \n",
       "8749                   NaN               NaN  Unspecified   Unspecified   \n",
       "\n",
       "     Product Market Product Group  \n",
       "8720    Unspecified   Unspecified  \n",
       "8721    Unspecified   Unspecified  \n",
       "8722    Unspecified   Unspecified  \n",
       "8723    Unspecified   Unspecified  \n",
       "8730    Unspecified   Unspecified  \n",
       "8731    Unspecified   Unspecified  \n",
       "8732    Unspecified   Unspecified  \n",
       "8737    Unspecified   Unspecified  \n",
       "8748    Unspecified   Unspecified  \n",
       "8749    Unspecified   Unspecified  "
      ]
     },
     "execution_count": 13,
     "metadata": {},
     "output_type": "execute_result"
    }
   ],
   "source": [
    "# null_productNo = pd.DataFrame()\n",
    "# for index,row in filtered_df.iterrows():\n",
    "#     if pd.isnull(row['Product Number']):\n",
    "#         null_productNo=  pd.concat([null_productNo,pd.DataFrame([row])], ignore_index=True)\n",
    "null_productNo = filtered_df[filtered_df['Product Number'].isnull()]\n",
    "null_productNo.head(10)"
   ]
  },
  {
   "cell_type": "markdown",
   "metadata": {},
   "source": [
    "# Dropping the Rows which had no **Product Number** and other neccessary information."
   ]
  },
  {
   "cell_type": "code",
   "execution_count": 14,
   "metadata": {},
   "outputs": [
    {
     "name": "stdout",
     "output_type": "stream",
     "text": [
      "Product Number\n",
      "False    3673792\n",
      "Name: count, dtype: int64\n"
     ]
    }
   ],
   "source": [
    "# filtered_df = pd.DataFrame(filtered_df)\n",
    "filtered_df = filtered_df.dropna(subset=['Product Number'])\n",
    "missing = filtered_df['Product Number'].isnull().value_counts()\n",
    "print(missing)"
   ]
  },
  {
   "cell_type": "code",
   "execution_count": 15,
   "metadata": {},
   "outputs": [
    {
     "data": {
      "text/plain": [
       "Product Number              3673792\n",
       "Year                        3673792\n",
       "Week                        3673792\n",
       "Month Name                  3673792\n",
       "Week Start Date             3673792\n",
       "Plant Location Name         3673792\n",
       "Ship To Location Country    3615346\n",
       "Ship To Location State      3591116\n",
       "Ship To Location City       3615339\n",
       "Ordered Quantity            2374994\n",
       "Family Group                3673583\n",
       "Product Class               3673792\n",
       "Product Market              3673792\n",
       "Product Group               3673792\n",
       "dtype: int64"
      ]
     },
     "execution_count": 15,
     "metadata": {},
     "output_type": "execute_result"
    }
   ],
   "source": [
    "filtered_df.count()"
   ]
  },
  {
   "cell_type": "code",
   "execution_count": 16,
   "metadata": {},
   "outputs": [
    {
     "name": "stdout",
     "output_type": "stream",
     "text": [
      "Week\n",
      "False    3673792\n",
      "Name: count, dtype: int64\n"
     ]
    }
   ],
   "source": [
    "missing = filtered_df['Week'].isnull().value_counts()\n",
    "print(missing)"
   ]
  },
  {
   "cell_type": "code",
   "execution_count": 17,
   "metadata": {},
   "outputs": [
    {
     "data": {
      "text/html": [
       "<div>\n",
       "<style scoped>\n",
       "    .dataframe tbody tr th:only-of-type {\n",
       "        vertical-align: middle;\n",
       "    }\n",
       "\n",
       "    .dataframe tbody tr th {\n",
       "        vertical-align: top;\n",
       "    }\n",
       "\n",
       "    .dataframe thead th {\n",
       "        text-align: right;\n",
       "    }\n",
       "</style>\n",
       "<table border=\"1\" class=\"dataframe\">\n",
       "  <thead>\n",
       "    <tr style=\"text-align: right;\">\n",
       "      <th></th>\n",
       "      <th>Product Number</th>\n",
       "      <th>Year</th>\n",
       "      <th>Week</th>\n",
       "      <th>Month Name</th>\n",
       "      <th>Week Start Date</th>\n",
       "      <th>Plant Location Name</th>\n",
       "      <th>Ship To Location Country</th>\n",
       "      <th>Ship To Location State</th>\n",
       "      <th>Ship To Location City</th>\n",
       "      <th>Ordered Quantity</th>\n",
       "      <th>Family Group</th>\n",
       "      <th>Product Class</th>\n",
       "      <th>Product Market</th>\n",
       "      <th>Product Group</th>\n",
       "    </tr>\n",
       "  </thead>\n",
       "  <tbody>\n",
       "  </tbody>\n",
       "</table>\n",
       "</div>"
      ],
      "text/plain": [
       "Empty DataFrame\n",
       "Columns: [Product Number, Year, Week, Month Name, Week Start Date, Plant Location Name, Ship To Location Country, Ship To Location State, Ship To Location City, Ordered Quantity, Family Group, Product Class, Product Market, Product Group]\n",
       "Index: []"
      ]
     },
     "execution_count": 17,
     "metadata": {},
     "output_type": "execute_result"
    }
   ],
   "source": [
    "null_week = filtered_df[filtered_df['Week'].isnull()]\n",
    "null_week.head(100)"
   ]
  },
  {
   "cell_type": "code",
   "execution_count": 18,
   "metadata": {},
   "outputs": [],
   "source": [
    "data_2023 = filtered_df[filtered_df['Year'] == 2023]"
   ]
  },
  {
   "cell_type": "code",
   "execution_count": 19,
   "metadata": {},
   "outputs": [
    {
     "name": "stdout",
     "output_type": "stream",
     "text": [
      "0\n"
     ]
    }
   ],
   "source": [
    "print(data_2023['Week'].isnull().sum())"
   ]
  },
  {
   "cell_type": "code",
   "execution_count": 30,
   "metadata": {},
   "outputs": [],
   "source": [
    "data_2016_2022 = filtered_df[(filtered_df['Year']>=2016) & (filtered_df['Year'] <=2022)]\n"
   ]
  },
  {
   "cell_type": "code",
   "execution_count": 32,
   "metadata": {},
   "outputs": [
    {
     "name": "stderr",
     "output_type": "stream",
     "text": [
      "C:\\Users\\CM-Ajk\\AppData\\Local\\Temp\\ipykernel_21844\\3932887002.py:1: SettingWithCopyWarning: \n",
      "A value is trying to be set on a copy of a slice from a DataFrame.\n",
      "Try using .loc[row_indexer,col_indexer] = value instead\n",
      "\n",
      "See the caveats in the documentation: https://pandas.pydata.org/pandas-docs/stable/user_guide/indexing.html#returning-a-view-versus-a-copy\n",
      "  data_2016_2022['Week Number'] = data_2016_2022['Week'].str.extract(r'Week(\\d+)').astype(int)\n"
     ]
    },
    {
     "data": {
      "text/html": [
       "<div>\n",
       "<style scoped>\n",
       "    .dataframe tbody tr th:only-of-type {\n",
       "        vertical-align: middle;\n",
       "    }\n",
       "\n",
       "    .dataframe tbody tr th {\n",
       "        vertical-align: top;\n",
       "    }\n",
       "\n",
       "    .dataframe thead th {\n",
       "        text-align: right;\n",
       "    }\n",
       "</style>\n",
       "<table border=\"1\" class=\"dataframe\">\n",
       "  <thead>\n",
       "    <tr style=\"text-align: right;\">\n",
       "      <th></th>\n",
       "      <th>Product Number</th>\n",
       "      <th>Year</th>\n",
       "      <th>Week</th>\n",
       "      <th>Month Name</th>\n",
       "      <th>Week Start Date</th>\n",
       "      <th>Plant Location Name</th>\n",
       "      <th>Ship To Location Country</th>\n",
       "      <th>Ship To Location State</th>\n",
       "      <th>Ship To Location City</th>\n",
       "      <th>Ordered Quantity</th>\n",
       "      <th>Family Group</th>\n",
       "      <th>Product Class</th>\n",
       "      <th>Product Market</th>\n",
       "      <th>Product Group</th>\n",
       "      <th>Week Number</th>\n",
       "    </tr>\n",
       "  </thead>\n",
       "  <tbody>\n",
       "    <tr>\n",
       "      <th>3232559</th>\n",
       "      <td>683324</td>\n",
       "      <td>2022</td>\n",
       "      <td>2022 Week53</td>\n",
       "      <td>December</td>\n",
       "      <td>2022-12-25</td>\n",
       "      <td>WHSE SOUTHEAST</td>\n",
       "      <td>US</td>\n",
       "      <td>MO</td>\n",
       "      <td>Grandview</td>\n",
       "      <td>1.0</td>\n",
       "      <td>LIGHT DUTY</td>\n",
       "      <td>ELECTRIC</td>\n",
       "      <td>COMMERCIAL</td>\n",
       "      <td>WATER HEATING</td>\n",
       "      <td>53</td>\n",
       "    </tr>\n",
       "    <tr>\n",
       "      <th>3232560</th>\n",
       "      <td>683430</td>\n",
       "      <td>2022</td>\n",
       "      <td>2022 Week53</td>\n",
       "      <td>December</td>\n",
       "      <td>2022-12-25</td>\n",
       "      <td>WHSE SOUTHEAST</td>\n",
       "      <td>US</td>\n",
       "      <td>NC</td>\n",
       "      <td>RALEIGH</td>\n",
       "      <td>1.0</td>\n",
       "      <td>LIGHT DUTY</td>\n",
       "      <td>ELECTRIC</td>\n",
       "      <td>COMMERCIAL</td>\n",
       "      <td>WATER HEATING</td>\n",
       "      <td>53</td>\n",
       "    </tr>\n",
       "    <tr>\n",
       "      <th>3232561</th>\n",
       "      <td>700236</td>\n",
       "      <td>2022</td>\n",
       "      <td>2022 Week53</td>\n",
       "      <td>December</td>\n",
       "      <td>2022-12-25</td>\n",
       "      <td>WHSE SOUTHEAST</td>\n",
       "      <td>US</td>\n",
       "      <td>NC</td>\n",
       "      <td>WINSTON SALEM</td>\n",
       "      <td>2.0</td>\n",
       "      <td>LIGHT DUTY</td>\n",
       "      <td>ELECTRIC</td>\n",
       "      <td>COMMERCIAL</td>\n",
       "      <td>WATER HEATING</td>\n",
       "      <td>53</td>\n",
       "    </tr>\n",
       "    <tr>\n",
       "      <th>3232562</th>\n",
       "      <td>700455</td>\n",
       "      <td>2022</td>\n",
       "      <td>2022 Week53</td>\n",
       "      <td>December</td>\n",
       "      <td>2022-12-25</td>\n",
       "      <td>WHSE SPICE ISLAND</td>\n",
       "      <td>US</td>\n",
       "      <td>CA</td>\n",
       "      <td>CALEXICO</td>\n",
       "      <td>79.0</td>\n",
       "      <td>HEATPUMP</td>\n",
       "      <td>HEATPUMP</td>\n",
       "      <td>RESIDENTIAL</td>\n",
       "      <td>WATER HEATING</td>\n",
       "      <td>53</td>\n",
       "    </tr>\n",
       "    <tr>\n",
       "      <th>3232563</th>\n",
       "      <td>700467</td>\n",
       "      <td>2022</td>\n",
       "      <td>2022 Week53</td>\n",
       "      <td>December</td>\n",
       "      <td>2022-12-25</td>\n",
       "      <td>WHSE SPICE ISLAND</td>\n",
       "      <td>US</td>\n",
       "      <td>CA</td>\n",
       "      <td>CALEXICO</td>\n",
       "      <td>51.0</td>\n",
       "      <td>HEATPUMP</td>\n",
       "      <td>HEATPUMP</td>\n",
       "      <td>RESIDENTIAL</td>\n",
       "      <td>WATER HEATING</td>\n",
       "      <td>53</td>\n",
       "    </tr>\n",
       "  </tbody>\n",
       "</table>\n",
       "</div>"
      ],
      "text/plain": [
       "        Product Number  Year         Week Month Name Week Start Date  \\\n",
       "3232559         683324  2022  2022 Week53   December      2022-12-25   \n",
       "3232560         683430  2022  2022 Week53   December      2022-12-25   \n",
       "3232561         700236  2022  2022 Week53   December      2022-12-25   \n",
       "3232562         700455  2022  2022 Week53   December      2022-12-25   \n",
       "3232563         700467  2022  2022 Week53   December      2022-12-25   \n",
       "\n",
       "        Plant Location Name Ship To Location Country Ship To Location State  \\\n",
       "3232559      WHSE SOUTHEAST                       US                     MO   \n",
       "3232560      WHSE SOUTHEAST                       US                     NC   \n",
       "3232561      WHSE SOUTHEAST                       US                     NC   \n",
       "3232562   WHSE SPICE ISLAND                       US                     CA   \n",
       "3232563   WHSE SPICE ISLAND                       US                     CA   \n",
       "\n",
       "        Ship To Location City  Ordered Quantity Family Group Product Class  \\\n",
       "3232559             Grandview               1.0   LIGHT DUTY      ELECTRIC   \n",
       "3232560               RALEIGH               1.0   LIGHT DUTY      ELECTRIC   \n",
       "3232561         WINSTON SALEM               2.0   LIGHT DUTY      ELECTRIC   \n",
       "3232562              CALEXICO              79.0     HEATPUMP      HEATPUMP   \n",
       "3232563              CALEXICO              51.0     HEATPUMP      HEATPUMP   \n",
       "\n",
       "        Product Market  Product Group  Week Number  \n",
       "3232559     COMMERCIAL  WATER HEATING           53  \n",
       "3232560     COMMERCIAL  WATER HEATING           53  \n",
       "3232561     COMMERCIAL  WATER HEATING           53  \n",
       "3232562    RESIDENTIAL  WATER HEATING           53  \n",
       "3232563    RESIDENTIAL  WATER HEATING           53  "
      ]
     },
     "execution_count": 32,
     "metadata": {},
     "output_type": "execute_result"
    }
   ],
   "source": [
    "data_2016_2022['Week Number'] = data_2016_2022['Week'].str.extract(r'Week(\\d+)').astype(int)\n",
    "data_2016_2022.tail()"
   ]
  },
  {
   "cell_type": "code",
   "execution_count": 22,
   "metadata": {},
   "outputs": [
    {
     "data": {
      "text/plain": [
       "np.int64(200)"
      ]
     },
     "execution_count": 22,
     "metadata": {},
     "output_type": "execute_result"
    }
   ],
   "source": [
    "check= data_2016_2022['Family Group'].isnull().sum().sum()\n",
    "check"
   ]
  },
  {
   "cell_type": "markdown",
   "metadata": {},
   "source": [
    "# Now that we have cleaned and split the data into **2016 to 2022**  and **2013**. We can visualize it "
   ]
  },
  {
   "cell_type": "code",
   "execution_count": 23,
   "metadata": {},
   "outputs": [
    {
     "data": {
      "text/plain": [
       "Index(['Product Number', 'Year', 'Week', 'Month Name', 'Week Start Date',\n",
       "       'Plant Location Name', 'Ship To Location Country',\n",
       "       'Ship To Location State', 'Ship To Location City', 'Ordered Quantity',\n",
       "       'Family Group', 'Product Class', 'Product Market', 'Product Group',\n",
       "       'Week Number'],\n",
       "      dtype='object')"
      ]
     },
     "execution_count": 23,
     "metadata": {},
     "output_type": "execute_result"
    }
   ],
   "source": [
    " data_2016_2022.columns"
   ]
  },
  {
   "cell_type": "markdown",
   "metadata": {},
   "source": [
    "## top 5 **Product Number** and their **Market** and **Product Group**"
   ]
  },
  {
   "cell_type": "code",
   "execution_count": 24,
   "metadata": {},
   "outputs": [
    {
     "data": {
      "text/html": [
       "<div>\n",
       "<style scoped>\n",
       "    .dataframe tbody tr th:only-of-type {\n",
       "        vertical-align: middle;\n",
       "    }\n",
       "\n",
       "    .dataframe tbody tr th {\n",
       "        vertical-align: top;\n",
       "    }\n",
       "\n",
       "    .dataframe thead th {\n",
       "        text-align: right;\n",
       "    }\n",
       "</style>\n",
       "<table border=\"1\" class=\"dataframe\">\n",
       "  <thead>\n",
       "    <tr style=\"text-align: right;\">\n",
       "      <th></th>\n",
       "      <th>Product Number</th>\n",
       "      <th>Ordered Quantity</th>\n",
       "      <th>Product Market</th>\n",
       "      <th>Product Group</th>\n",
       "    </tr>\n",
       "  </thead>\n",
       "  <tbody>\n",
       "    <tr>\n",
       "      <th>0</th>\n",
       "      <td>AS20811-2</td>\n",
       "      <td>8456600.0</td>\n",
       "      <td>WATER HEATER</td>\n",
       "      <td>PARTS &amp; SERVICES</td>\n",
       "    </tr>\n",
       "    <tr>\n",
       "      <th>298</th>\n",
       "      <td>AS45341B</td>\n",
       "      <td>7898604.0</td>\n",
       "      <td>UNDEFINED</td>\n",
       "      <td>UNDEFINED</td>\n",
       "    </tr>\n",
       "    <tr>\n",
       "      <th>547</th>\n",
       "      <td>AP12617-3</td>\n",
       "      <td>7397850.0</td>\n",
       "      <td>WATER HEATER</td>\n",
       "      <td>PARTS &amp; SERVICES</td>\n",
       "    </tr>\n",
       "    <tr>\n",
       "      <th>1198</th>\n",
       "      <td>AS29893-2</td>\n",
       "      <td>6910354.0</td>\n",
       "      <td>WATER HEATER</td>\n",
       "      <td>PARTS &amp; SERVICES</td>\n",
       "    </tr>\n",
       "    <tr>\n",
       "      <th>1286</th>\n",
       "      <td>AS44715</td>\n",
       "      <td>6513936.0</td>\n",
       "      <td>WATER HEATER</td>\n",
       "      <td>PARTS &amp; SERVICES</td>\n",
       "    </tr>\n",
       "  </tbody>\n",
       "</table>\n",
       "</div>"
      ],
      "text/plain": [
       "     Product Number  Ordered Quantity Product Market     Product Group\n",
       "0         AS20811-2         8456600.0   WATER HEATER  PARTS & SERVICES\n",
       "298        AS45341B         7898604.0      UNDEFINED         UNDEFINED\n",
       "547       AP12617-3         7397850.0   WATER HEATER  PARTS & SERVICES\n",
       "1198      AS29893-2         6910354.0   WATER HEATER  PARTS & SERVICES\n",
       "1286        AS44715         6513936.0   WATER HEATER  PARTS & SERVICES"
      ]
     },
     "execution_count": 24,
     "metadata": {},
     "output_type": "execute_result"
    }
   ],
   "source": [
    "\n",
    "grouped_for_top_5_products = data_2016_2022.groupby('Product Number')['Ordered Quantity'].sum()\n",
    "top_5_products = grouped_for_top_5_products.nlargest(5)\n",
    "top_5_df = top_5_products.reset_index()\n",
    "top_5_details = pd.merge(top_5_df, data_2016_2022[['Product Number', 'Product Market', 'Product Group']], on='Product Number', how='left').drop_duplicates()\n",
    "top_5_details"
   ]
  },
  {
   "cell_type": "code",
   "execution_count": 25,
   "metadata": {},
   "outputs": [
    {
     "data": {
      "text/html": [
       "<div>\n",
       "<style scoped>\n",
       "    .dataframe tbody tr th:only-of-type {\n",
       "        vertical-align: middle;\n",
       "    }\n",
       "\n",
       "    .dataframe tbody tr th {\n",
       "        vertical-align: top;\n",
       "    }\n",
       "\n",
       "    .dataframe thead th {\n",
       "        text-align: right;\n",
       "    }\n",
       "</style>\n",
       "<table border=\"1\" class=\"dataframe\">\n",
       "  <thead>\n",
       "    <tr style=\"text-align: right;\">\n",
       "      <th></th>\n",
       "      <th>Product Number</th>\n",
       "      <th>Year</th>\n",
       "      <th>Week</th>\n",
       "      <th>Month Name</th>\n",
       "      <th>Week Start Date</th>\n",
       "      <th>Plant Location Name</th>\n",
       "      <th>Ship To Location Country</th>\n",
       "      <th>Ship To Location State</th>\n",
       "      <th>Ship To Location City</th>\n",
       "      <th>Ordered Quantity</th>\n",
       "      <th>Family Group</th>\n",
       "      <th>Product Class</th>\n",
       "      <th>Product Market</th>\n",
       "      <th>Product Group</th>\n",
       "    </tr>\n",
       "  </thead>\n",
       "  <tbody>\n",
       "    <tr>\n",
       "      <th>7229</th>\n",
       "      <td>AS44715</td>\n",
       "      <td>2016</td>\n",
       "      <td>2016 Week02</td>\n",
       "      <td>January</td>\n",
       "      <td>2016-01-03</td>\n",
       "      <td>PLANT WH NUEVO LAREDO 1</td>\n",
       "      <td>US</td>\n",
       "      <td>CA</td>\n",
       "      <td>CALEXICO</td>\n",
       "      <td>18000.0</td>\n",
       "      <td>MISC MANUFACTURED PARTS</td>\n",
       "      <td>WATER HEATER</td>\n",
       "      <td>WATER HEATER</td>\n",
       "      <td>PARTS &amp; SERVICES</td>\n",
       "    </tr>\n",
       "    <tr>\n",
       "      <th>7347</th>\n",
       "      <td>AS44715</td>\n",
       "      <td>2016</td>\n",
       "      <td>2016 Week02</td>\n",
       "      <td>January</td>\n",
       "      <td>2016-01-03</td>\n",
       "      <td>PLANT WH NUEVO LAREDO 1</td>\n",
       "      <td>US</td>\n",
       "      <td>AL</td>\n",
       "      <td>MONTGOMERY</td>\n",
       "      <td>5000.0</td>\n",
       "      <td>MISC MANUFACTURED PARTS</td>\n",
       "      <td>WATER HEATER</td>\n",
       "      <td>WATER HEATER</td>\n",
       "      <td>PARTS &amp; SERVICES</td>\n",
       "    </tr>\n",
       "    <tr>\n",
       "      <th>17466</th>\n",
       "      <td>AS44715</td>\n",
       "      <td>2016</td>\n",
       "      <td>2016 Week03</td>\n",
       "      <td>January</td>\n",
       "      <td>2016-01-10</td>\n",
       "      <td>PLANT WH NUEVO LAREDO 1</td>\n",
       "      <td>US</td>\n",
       "      <td>AL</td>\n",
       "      <td>MONTGOMERY</td>\n",
       "      <td>5000.0</td>\n",
       "      <td>MISC MANUFACTURED PARTS</td>\n",
       "      <td>WATER HEATER</td>\n",
       "      <td>WATER HEATER</td>\n",
       "      <td>PARTS &amp; SERVICES</td>\n",
       "    </tr>\n",
       "    <tr>\n",
       "      <th>27145</th>\n",
       "      <td>AS44715</td>\n",
       "      <td>2016</td>\n",
       "      <td>2016 Week04</td>\n",
       "      <td>January</td>\n",
       "      <td>2016-01-17</td>\n",
       "      <td>PLANT WH NUEVO LAREDO 1</td>\n",
       "      <td>US</td>\n",
       "      <td>CA</td>\n",
       "      <td>CALEXICO</td>\n",
       "      <td>8500.0</td>\n",
       "      <td>MISC MANUFACTURED PARTS</td>\n",
       "      <td>WATER HEATER</td>\n",
       "      <td>WATER HEATER</td>\n",
       "      <td>PARTS &amp; SERVICES</td>\n",
       "    </tr>\n",
       "    <tr>\n",
       "      <th>27250</th>\n",
       "      <td>AS44715</td>\n",
       "      <td>2016</td>\n",
       "      <td>2016 Week04</td>\n",
       "      <td>January</td>\n",
       "      <td>2016-01-17</td>\n",
       "      <td>PLANT WH NUEVO LAREDO 1</td>\n",
       "      <td>US</td>\n",
       "      <td>AL</td>\n",
       "      <td>MONTGOMERY</td>\n",
       "      <td>5000.0</td>\n",
       "      <td>MISC MANUFACTURED PARTS</td>\n",
       "      <td>WATER HEATER</td>\n",
       "      <td>WATER HEATER</td>\n",
       "      <td>PARTS &amp; SERVICES</td>\n",
       "    </tr>\n",
       "    <tr>\n",
       "      <th>...</th>\n",
       "      <td>...</td>\n",
       "      <td>...</td>\n",
       "      <td>...</td>\n",
       "      <td>...</td>\n",
       "      <td>...</td>\n",
       "      <td>...</td>\n",
       "      <td>...</td>\n",
       "      <td>...</td>\n",
       "      <td>...</td>\n",
       "      <td>...</td>\n",
       "      <td>...</td>\n",
       "      <td>...</td>\n",
       "      <td>...</td>\n",
       "      <td>...</td>\n",
       "    </tr>\n",
       "    <tr>\n",
       "      <th>3663947</th>\n",
       "      <td>AS44715</td>\n",
       "      <td>2023</td>\n",
       "      <td>2023 Week49</td>\n",
       "      <td>December</td>\n",
       "      <td>12/3/2023</td>\n",
       "      <td>PLANT WH NUEVO LAREDO 1</td>\n",
       "      <td>US</td>\n",
       "      <td>CA</td>\n",
       "      <td>CALEXICO</td>\n",
       "      <td>15000.0</td>\n",
       "      <td>MISC MANUFACTURED PARTS</td>\n",
       "      <td>WATER HEATER</td>\n",
       "      <td>WATER HEATER</td>\n",
       "      <td>PARTS &amp; SERVICES</td>\n",
       "    </tr>\n",
       "    <tr>\n",
       "      <th>3664119</th>\n",
       "      <td>AS44715</td>\n",
       "      <td>2023</td>\n",
       "      <td>2023 Week49</td>\n",
       "      <td>December</td>\n",
       "      <td>12/3/2023</td>\n",
       "      <td>PLANT WH NUEVO LAREDO 1</td>\n",
       "      <td>US</td>\n",
       "      <td>AL</td>\n",
       "      <td>MONTGOMERY</td>\n",
       "      <td>8000.0</td>\n",
       "      <td>MISC MANUFACTURED PARTS</td>\n",
       "      <td>WATER HEATER</td>\n",
       "      <td>WATER HEATER</td>\n",
       "      <td>PARTS &amp; SERVICES</td>\n",
       "    </tr>\n",
       "    <tr>\n",
       "      <th>3673071</th>\n",
       "      <td>AS44715</td>\n",
       "      <td>2023</td>\n",
       "      <td>2023 Week50</td>\n",
       "      <td>December</td>\n",
       "      <td>12/10/2023</td>\n",
       "      <td>PLANT WH NUEVO LAREDO 1</td>\n",
       "      <td>US</td>\n",
       "      <td>CA</td>\n",
       "      <td>CALEXICO</td>\n",
       "      <td>15000.0</td>\n",
       "      <td>MISC MANUFACTURED PARTS</td>\n",
       "      <td>WATER HEATER</td>\n",
       "      <td>WATER HEATER</td>\n",
       "      <td>PARTS &amp; SERVICES</td>\n",
       "    </tr>\n",
       "    <tr>\n",
       "      <th>3673259</th>\n",
       "      <td>AS44715</td>\n",
       "      <td>2023</td>\n",
       "      <td>2023 Week50</td>\n",
       "      <td>December</td>\n",
       "      <td>12/10/2023</td>\n",
       "      <td>PLANT WH NUEVO LAREDO 1</td>\n",
       "      <td>US</td>\n",
       "      <td>AL</td>\n",
       "      <td>MONTGOMERY</td>\n",
       "      <td>7000.0</td>\n",
       "      <td>MISC MANUFACTURED PARTS</td>\n",
       "      <td>WATER HEATER</td>\n",
       "      <td>WATER HEATER</td>\n",
       "      <td>PARTS &amp; SERVICES</td>\n",
       "    </tr>\n",
       "    <tr>\n",
       "      <th>3681937</th>\n",
       "      <td>AS44715</td>\n",
       "      <td>2023</td>\n",
       "      <td>2023 Week51</td>\n",
       "      <td>December</td>\n",
       "      <td>12/17/2023</td>\n",
       "      <td>PLANT WH NUEVO LAREDO 1</td>\n",
       "      <td>US</td>\n",
       "      <td>CA</td>\n",
       "      <td>CALEXICO</td>\n",
       "      <td>15000.0</td>\n",
       "      <td>MISC MANUFACTURED PARTS</td>\n",
       "      <td>WATER HEATER</td>\n",
       "      <td>WATER HEATER</td>\n",
       "      <td>PARTS &amp; SERVICES</td>\n",
       "    </tr>\n",
       "  </tbody>\n",
       "</table>\n",
       "<p>706 rows × 14 columns</p>\n",
       "</div>"
      ],
      "text/plain": [
       "        Product Number  Year         Week Month Name Week Start Date  \\\n",
       "7229           AS44715  2016  2016 Week02    January      2016-01-03   \n",
       "7347           AS44715  2016  2016 Week02    January      2016-01-03   \n",
       "17466          AS44715  2016  2016 Week03    January      2016-01-10   \n",
       "27145          AS44715  2016  2016 Week04    January      2016-01-17   \n",
       "27250          AS44715  2016  2016 Week04    January      2016-01-17   \n",
       "...                ...   ...          ...        ...             ...   \n",
       "3663947        AS44715  2023  2023 Week49   December       12/3/2023   \n",
       "3664119        AS44715  2023  2023 Week49   December       12/3/2023   \n",
       "3673071        AS44715  2023  2023 Week50   December      12/10/2023   \n",
       "3673259        AS44715  2023  2023 Week50   December      12/10/2023   \n",
       "3681937        AS44715  2023  2023 Week51   December      12/17/2023   \n",
       "\n",
       "             Plant Location Name Ship To Location Country  \\\n",
       "7229     PLANT WH NUEVO LAREDO 1                       US   \n",
       "7347     PLANT WH NUEVO LAREDO 1                       US   \n",
       "17466    PLANT WH NUEVO LAREDO 1                       US   \n",
       "27145    PLANT WH NUEVO LAREDO 1                       US   \n",
       "27250    PLANT WH NUEVO LAREDO 1                       US   \n",
       "...                          ...                      ...   \n",
       "3663947  PLANT WH NUEVO LAREDO 1                       US   \n",
       "3664119  PLANT WH NUEVO LAREDO 1                       US   \n",
       "3673071  PLANT WH NUEVO LAREDO 1                       US   \n",
       "3673259  PLANT WH NUEVO LAREDO 1                       US   \n",
       "3681937  PLANT WH NUEVO LAREDO 1                       US   \n",
       "\n",
       "        Ship To Location State Ship To Location City  Ordered Quantity  \\\n",
       "7229                        CA              CALEXICO           18000.0   \n",
       "7347                        AL            MONTGOMERY            5000.0   \n",
       "17466                       AL            MONTGOMERY            5000.0   \n",
       "27145                       CA              CALEXICO            8500.0   \n",
       "27250                       AL            MONTGOMERY            5000.0   \n",
       "...                        ...                   ...               ...   \n",
       "3663947                     CA              CALEXICO           15000.0   \n",
       "3664119                     AL            MONTGOMERY            8000.0   \n",
       "3673071                     CA              CALEXICO           15000.0   \n",
       "3673259                     AL            MONTGOMERY            7000.0   \n",
       "3681937                     CA              CALEXICO           15000.0   \n",
       "\n",
       "                    Family Group Product Class Product Market  \\\n",
       "7229     MISC MANUFACTURED PARTS  WATER HEATER   WATER HEATER   \n",
       "7347     MISC MANUFACTURED PARTS  WATER HEATER   WATER HEATER   \n",
       "17466    MISC MANUFACTURED PARTS  WATER HEATER   WATER HEATER   \n",
       "27145    MISC MANUFACTURED PARTS  WATER HEATER   WATER HEATER   \n",
       "27250    MISC MANUFACTURED PARTS  WATER HEATER   WATER HEATER   \n",
       "...                          ...           ...            ...   \n",
       "3663947  MISC MANUFACTURED PARTS  WATER HEATER   WATER HEATER   \n",
       "3664119  MISC MANUFACTURED PARTS  WATER HEATER   WATER HEATER   \n",
       "3673071  MISC MANUFACTURED PARTS  WATER HEATER   WATER HEATER   \n",
       "3673259  MISC MANUFACTURED PARTS  WATER HEATER   WATER HEATER   \n",
       "3681937  MISC MANUFACTURED PARTS  WATER HEATER   WATER HEATER   \n",
       "\n",
       "            Product Group  \n",
       "7229     PARTS & SERVICES  \n",
       "7347     PARTS & SERVICES  \n",
       "17466    PARTS & SERVICES  \n",
       "27145    PARTS & SERVICES  \n",
       "27250    PARTS & SERVICES  \n",
       "...                   ...  \n",
       "3663947  PARTS & SERVICES  \n",
       "3664119  PARTS & SERVICES  \n",
       "3673071  PARTS & SERVICES  \n",
       "3673259  PARTS & SERVICES  \n",
       "3681937  PARTS & SERVICES  \n",
       "\n",
       "[706 rows x 14 columns]"
      ]
     },
     "execution_count": 25,
     "metadata": {},
     "output_type": "execute_result"
    }
   ],
   "source": [
    "a = filtered_df[filtered_df['Product Number'] == 'AS44715']\n",
    "a"
   ]
  },
  {
   "cell_type": "code",
   "execution_count": 26,
   "metadata": {},
   "outputs": [
    {
     "data": {
      "text/html": [
       "<div>\n",
       "<style scoped>\n",
       "    .dataframe tbody tr th:only-of-type {\n",
       "        vertical-align: middle;\n",
       "    }\n",
       "\n",
       "    .dataframe tbody tr th {\n",
       "        vertical-align: top;\n",
       "    }\n",
       "\n",
       "    .dataframe thead th {\n",
       "        text-align: right;\n",
       "    }\n",
       "</style>\n",
       "<table border=\"1\" class=\"dataframe\">\n",
       "  <thead>\n",
       "    <tr style=\"text-align: right;\">\n",
       "      <th></th>\n",
       "      <th>Product Number</th>\n",
       "      <th>Year</th>\n",
       "      <th>Week</th>\n",
       "      <th>Month Name</th>\n",
       "      <th>Week Start Date</th>\n",
       "      <th>Plant Location Name</th>\n",
       "      <th>Ship To Location Country</th>\n",
       "      <th>Ship To Location State</th>\n",
       "      <th>Ship To Location City</th>\n",
       "      <th>Ordered Quantity</th>\n",
       "      <th>Family Group</th>\n",
       "      <th>Product Class</th>\n",
       "      <th>Product Market</th>\n",
       "      <th>Product Group</th>\n",
       "      <th>Week Number</th>\n",
       "    </tr>\n",
       "  </thead>\n",
       "  <tbody>\n",
       "    <tr>\n",
       "      <th>454480</th>\n",
       "      <td>AS45341B</td>\n",
       "      <td>2016</td>\n",
       "      <td>2016 Week53</td>\n",
       "      <td>December</td>\n",
       "      <td>2016-12-25</td>\n",
       "      <td>PLANT WH NUEVO LAREDO 1</td>\n",
       "      <td>US</td>\n",
       "      <td>CA</td>\n",
       "      <td>CALEXICO</td>\n",
       "      <td>60200.0</td>\n",
       "      <td>UNDEFINED</td>\n",
       "      <td>UNDEFINED</td>\n",
       "      <td>UNDEFINED</td>\n",
       "      <td>UNDEFINED</td>\n",
       "      <td>53</td>\n",
       "    </tr>\n",
       "    <tr>\n",
       "      <th>470584</th>\n",
       "      <td>AS45341B</td>\n",
       "      <td>2017</td>\n",
       "      <td>2017 Week02</td>\n",
       "      <td>January</td>\n",
       "      <td>2017-01-08</td>\n",
       "      <td>PLANT WH NUEVO LAREDO 1</td>\n",
       "      <td>US</td>\n",
       "      <td>CA</td>\n",
       "      <td>CALEXICO</td>\n",
       "      <td>25000.0</td>\n",
       "      <td>UNDEFINED</td>\n",
       "      <td>UNDEFINED</td>\n",
       "      <td>UNDEFINED</td>\n",
       "      <td>UNDEFINED</td>\n",
       "      <td>2</td>\n",
       "    </tr>\n",
       "    <tr>\n",
       "      <th>508644</th>\n",
       "      <td>AS45341B</td>\n",
       "      <td>2017</td>\n",
       "      <td>2017 Week06</td>\n",
       "      <td>February</td>\n",
       "      <td>2017-02-05</td>\n",
       "      <td>PLANT WH NUEVO LAREDO 1</td>\n",
       "      <td>US</td>\n",
       "      <td>CA</td>\n",
       "      <td>CALEXICO</td>\n",
       "      <td>25000.0</td>\n",
       "      <td>UNDEFINED</td>\n",
       "      <td>UNDEFINED</td>\n",
       "      <td>UNDEFINED</td>\n",
       "      <td>UNDEFINED</td>\n",
       "      <td>6</td>\n",
       "    </tr>\n",
       "    <tr>\n",
       "      <th>527118</th>\n",
       "      <td>AS45341B</td>\n",
       "      <td>2017</td>\n",
       "      <td>2017 Week08</td>\n",
       "      <td>February</td>\n",
       "      <td>2017-02-19</td>\n",
       "      <td>PLANT WH NUEVO LAREDO 1</td>\n",
       "      <td>US</td>\n",
       "      <td>CA</td>\n",
       "      <td>CALEXICO</td>\n",
       "      <td>15000.0</td>\n",
       "      <td>UNDEFINED</td>\n",
       "      <td>UNDEFINED</td>\n",
       "      <td>UNDEFINED</td>\n",
       "      <td>UNDEFINED</td>\n",
       "      <td>8</td>\n",
       "    </tr>\n",
       "    <tr>\n",
       "      <th>539364</th>\n",
       "      <td>AS45341B</td>\n",
       "      <td>2017</td>\n",
       "      <td>2017 Week09</td>\n",
       "      <td>March</td>\n",
       "      <td>2017-02-26</td>\n",
       "      <td>PLANT WH NUEVO LAREDO 1</td>\n",
       "      <td>US</td>\n",
       "      <td>CA</td>\n",
       "      <td>CALEXICO</td>\n",
       "      <td>30000.0</td>\n",
       "      <td>UNDEFINED</td>\n",
       "      <td>UNDEFINED</td>\n",
       "      <td>UNDEFINED</td>\n",
       "      <td>UNDEFINED</td>\n",
       "      <td>9</td>\n",
       "    </tr>\n",
       "  </tbody>\n",
       "</table>\n",
       "</div>"
      ],
      "text/plain": [
       "       Product Number  Year         Week Month Name Week Start Date  \\\n",
       "454480       AS45341B  2016  2016 Week53   December      2016-12-25   \n",
       "470584       AS45341B  2017  2017 Week02    January      2017-01-08   \n",
       "508644       AS45341B  2017  2017 Week06   February      2017-02-05   \n",
       "527118       AS45341B  2017  2017 Week08   February      2017-02-19   \n",
       "539364       AS45341B  2017  2017 Week09      March      2017-02-26   \n",
       "\n",
       "            Plant Location Name Ship To Location Country  \\\n",
       "454480  PLANT WH NUEVO LAREDO 1                       US   \n",
       "470584  PLANT WH NUEVO LAREDO 1                       US   \n",
       "508644  PLANT WH NUEVO LAREDO 1                       US   \n",
       "527118  PLANT WH NUEVO LAREDO 1                       US   \n",
       "539364  PLANT WH NUEVO LAREDO 1                       US   \n",
       "\n",
       "       Ship To Location State Ship To Location City  Ordered Quantity  \\\n",
       "454480                     CA              CALEXICO           60200.0   \n",
       "470584                     CA              CALEXICO           25000.0   \n",
       "508644                     CA              CALEXICO           25000.0   \n",
       "527118                     CA              CALEXICO           15000.0   \n",
       "539364                     CA              CALEXICO           30000.0   \n",
       "\n",
       "       Family Group Product Class Product Market Product Group  Week Number  \n",
       "454480    UNDEFINED     UNDEFINED      UNDEFINED     UNDEFINED           53  \n",
       "470584    UNDEFINED     UNDEFINED      UNDEFINED     UNDEFINED            2  \n",
       "508644    UNDEFINED     UNDEFINED      UNDEFINED     UNDEFINED            6  \n",
       "527118    UNDEFINED     UNDEFINED      UNDEFINED     UNDEFINED            8  \n",
       "539364    UNDEFINED     UNDEFINED      UNDEFINED     UNDEFINED            9  "
      ]
     },
     "execution_count": 26,
     "metadata": {},
     "output_type": "execute_result"
    }
   ],
   "source": [
    "pro_AS45341B = data_2016_2022[data_2016_2022['Product Number']== 'AS45341B']\n",
    "pro_AS45341B.head()"
   ]
  },
  {
   "cell_type": "markdown",
   "metadata": {},
   "source": [
    "## \"\"**Insight Revealed**\"\": Turns out one of the most wanted product has **Null Family,Class,Group**"
   ]
  },
  {
   "cell_type": "code",
   "execution_count": 27,
   "metadata": {},
   "outputs": [
    {
     "data": {
      "image/png": "[encoded data removed]",
      "text/plain": [
       "<Figure size 1200x800 with 1 Axes>"
      ]
     },
     "metadata": {},
     "output_type": "display_data"
    }
   ],
   "source": [
    "\n",
    "from matplotlib import pyplot as plt\n",
    "import numpy as np\n",
    "\n",
    "\n",
    "ordered_quantity = top_5_details['Ordered Quantity']\n",
    "product_numbers = top_5_details['Product Number']\n",
    "product_market = top_5_details['Product Market']\n",
    "product_group = top_5_details['Product Group']\n",
    "\n",
    "\n",
    "combined_categories = [f\"{p}, {m}, {g}\" for p, m, g in zip(product_numbers, product_market, product_group)]\n",
    "\n",
    "x = np.arange(len(combined_categories))\n",
    "fig, ax = plt.subplots(figsize=(12, 8))\n",
    "bars = ax.bar(x, ordered_quantity, color='gray', edgecolor='black')\n",
    "\n",
    "\n",
    "ax.set_xlabel('Product Number, Market, Group')\n",
    "ax.set_ylabel('Ordered Quantity')\n",
    "ax.set_title('Ordered Quantity by Product Number, Market, and Group')\n",
    "ax.set_xticks(x)\n",
    "ax.set_xticklabels(combined_categories, rotation=45, ha='right')\n",
    "\n",
    "\n",
    "for bar in bars:\n",
    "    yval = bar.get_height()\n",
    "    ax.text(bar.get_x() + bar.get_width()/2, yval, int(yval), va='bottom') \n",
    "\n",
    "plt.tight_layout()\n",
    "plt.show()"
   ]
  },
  {
   "cell_type": "markdown",
   "metadata": {},
   "source": [
    "## Figuring out the flow of data; Is it a **Trendy or a Seasonal** Data?"
   ]
  },
  {
   "cell_type": "code",
   "execution_count": 35,
   "metadata": {},
   "outputs": [
    {
     "data": {
      "image/png": "[encoded data removed]",
      "text/plain": [
       "<Figure size 1400x700 with 1 Axes>"
      ]
     },
     "metadata": {},
     "output_type": "display_data"
    }
   ],
   "source": [
    "df = pd.DataFrame(data_2016_2022)\n",
    "\n",
    "\n",
    "# Group by Year and Month Name, then sum Ordered Quantity\n",
    "grouped = df.groupby(['Year', 'Month Name'])['Ordered Quantity'].sum().unstack(level=0)\n",
    "\n",
    "# Sorting the index to ensure months are in order\n",
    "grouped = grouped.reindex(['January', 'February', 'March', 'April', 'May', 'June', 'July', 'August', 'September', 'October', 'November', 'December'])\n",
    "\n",
    "# Plotting\n",
    "plt.figure(figsize=(14, 7))\n",
    "for year in grouped.columns:\n",
    "    plt.plot(grouped.index, grouped[year], marker='o', label=str(year))\n",
    "\n",
    "plt.xlabel('Month')\n",
    "plt.ylabel('Ordered Quantity')\n",
    "plt.title('Orders Placed Throughout Each Year')\n",
    "plt.legend(title='Year')\n",
    "plt.grid(True)\n",
    "plt.xticks(rotation=45)\n",
    "plt.tight_layout()\n",
    "\n",
    "plt.show()"
   ]
  },
  {
   "cell_type": "markdown",
   "metadata": {},
   "source": [
    "to check:"
   ]
  },
  {
   "cell_type": "code",
   "execution_count": 42,
   "metadata": {},
   "outputs": [
    {
     "name": "stdout",
     "output_type": "stream",
     "text": [
      "2274592.0 , 1731900.0 , 542692.0\n"
     ]
    }
   ],
   "source": [
    "jan = data_2016_2022[(data_2016_2022['Year']==2016) & (data_2016_2022['Month Name'] == 'January') & (data_2016_2022['Ordered Quantity'])]\n",
    "jan_orders = jan['Ordered Quantity'].sum()\n",
    "feb = data_2016_2022[(data_2016_2022['Year']==2016) & (data_2016_2022['Month Name'] == 'February') & (data_2016_2022['Ordered Quantity'])]\n",
    "feb_orders = feb['Ordered Quantity'].sum()\n",
    "difference = jan_orders-feb_orders\n",
    "print(f\"{jan_orders} , {feb_orders} , {difference}\" )"
   ]
  },
  {
   "cell_type": "code",
   "execution_count": 43,
   "metadata": {},
   "outputs": [
    {
     "data": {
      "application/vnd.plotly.v1+json": {
       "config": {
        "plotlyServerURL": "https://plot.ly"
       },
       "data": [
        {
         "mode": "lines+markers",
         "name": "2016",
         "type": "scatter",
         "x": [
          "January",
          "February",
          "March",
          "April",
          "May",
          "June",
          "July",
          "August",
          "September",
          "October",
          "November",
          "December"
         ],
         "y": [
          2274592,
          1731900,
          1254926,
          1249180,
          1381163,
          1835457,
          893646,
          1416891,
          1373372,
          1610238,
          1983898,
          1382376
         ]
        },
        {
         "mode": "lines+markers",
         "name": "2017",
         "type": "scatter",
         "x": [
          "January",
          "February",
          "March",
          "April",
          "May",
          "June",
          "July",
          "August",
          "September",
          "October",
          "November",
          "December"
         ],
         "y": [
          1455846,
          1430572,
          1481909,
          1188681,
          1538301,
          2035576,
          638857,
          1645013,
          1141792,
          1368078,
          1799468,
          1554222
         ]
        },
        {
         "mode": "lines+markers",
         "name": "2018",
         "type": "scatter",
         "x": [
          "January",
          "February",
          "March",
          "April",
          "May",
          "June",
          "July",
          "August",
          "September",
          "October",
          "November",
          "December"
         ],
         "y": [
          2196044,
          1319640,
          1542005,
          1930836,
          1947971,
          1759003,
          1507480,
          1029590,
          1323122,
          1684024,
          1932977,
          931235
         ]
        },
        {
         "mode": "lines+markers",
         "name": "2019",
         "type": "scatter",
         "x": [
          "January",
          "February",
          "March",
          "April",
          "May",
          "June",
          "July",
          "August",
          "September",
          "October",
          "November",
          "December"
         ],
         "y": [
          2064993,
          1446474,
          1484727,
          1833191,
          1486213,
          1631606,
          1663292,
          1343636,
          1257666,
          1788129,
          1636319,
          1802415
         ]
        },
        {
         "mode": "lines+markers",
         "name": "2020",
         "type": "scatter",
         "x": [
          "January",
          "February",
          "March",
          "April",
          "May",
          "June",
          "July",
          "August",
          "September",
          "October",
          "November",
          "December"
         ],
         "y": [
          2013973,
          1274002,
          1816939,
          1493783,
          884328,
          1709705,
          2107174,
          1985745,
          1736328,
          1954321,
          2105131,
          1699807
         ]
        },
        {
         "mode": "lines+markers",
         "name": "2021",
         "type": "scatter",
         "x": [
          "January",
          "February",
          "March",
          "April",
          "May",
          "June",
          "July",
          "August",
          "September",
          "October",
          "November",
          "December"
         ],
         "y": [
          2221661,
          1675674,
          2780127,
          1684778,
          2186045,
          2128840,
          2062394,
          1946837,
          1901662,
          2161910,
          2706787,
          1950034
         ]
        },
        {
         "mode": "lines+markers",
         "name": "2022",
         "type": "scatter",
         "x": [
          "January",
          "February",
          "March",
          "April",
          "May",
          "June",
          "July",
          "August",
          "September",
          "October",
          "November",
          "December"
         ],
         "y": [
          1625121,
          2082097,
          2191439,
          2379068,
          1764605,
          2351846,
          1313878,
          2067128,
          1785191,
          1377403,
          1777279,
          1572576
         ]
        }
       ],
       "layout": {
        "legend": {
         "title": {
          "text": "Year"
         }
        },
        "template": {
         "data": {
          "bar": [
           {
            "error_x": {
             "color": "#2a3f5f"
            },
            "error_y": {
             "color": "#2a3f5f"
            },
            "marker": {
             "line": {
              "color": "#E5ECF6",
              "width": 0.5
             },
             "pattern": {
              "fillmode": "overlay",
              "size": 10,
              "solidity": 0.2
             }
            },
            "type": "bar"
           }
          ],
          "barpolar": [
           {
            "marker": {
             "line": {
              "color": "#E5ECF6",
              "width": 0.5
             },
             "pattern": {
              "fillmode": "overlay",
              "size": 10,
              "solidity": 0.2
             }
            },
            "type": "barpolar"
           }
          ],
          "carpet": [
           {
            "aaxis": {
             "endlinecolor": "#2a3f5f",
             "gridcolor": "white",
             "linecolor": "white",
             "minorgridcolor": "white",
             "startlinecolor": "#2a3f5f"
            },
            "baxis": {
             "endlinecolor": "#2a3f5f",
             "gridcolor": "white",
             "linecolor": "white",
             "minorgridcolor": "white",
             "startlinecolor": "#2a3f5f"
            },
            "type": "carpet"
           }
          ],
          "choropleth": [
           {
            "colorbar": {
             "outlinewidth": 0,
             "ticks": ""
            },
            "type": "choropleth"
           }
          ],
          "contour": [
           {
            "colorbar": {
             "outlinewidth": 0,
             "ticks": ""
            },
            "colorscale": [
             [
              0,
              "#0d0887"
             ],
             [
              0.1111111111111111,
              "#46039f"
             ],
             [
              0.2222222222222222,
              "#7201a8"
             ],
             [
              0.3333333333333333,
              "#9c179e"
             ],
             [
              0.4444444444444444,
              "#bd3786"
             ],
             [
              0.5555555555555556,
              "#d8576b"
             ],
             [
              0.6666666666666666,
              "#ed7953"
             ],
             [
              0.7777777777777778,
              "#fb9f3a"
             ],
             [
              0.8888888888888888,
              "#fdca26"
             ],
             [
              1,
              "#f0f921"
             ]
            ],
            "type": "contour"
           }
          ],
          "contourcarpet": [
           {
            "colorbar": {
             "outlinewidth": 0,
             "ticks": ""
            },
            "type": "contourcarpet"
           }
          ],
          "heatmap": [
           {
            "colorbar": {
             "outlinewidth": 0,
             "ticks": ""
            },
            "colorscale": [
             [
              0,
              "#0d0887"
             ],
             [
              0.1111111111111111,
              "#46039f"
             ],
             [
              0.2222222222222222,
              "#7201a8"
             ],
             [
              0.3333333333333333,
              "#9c179e"
             ],
             [
              0.4444444444444444,
              "#bd3786"
             ],
             [
              0.5555555555555556,
              "#d8576b"
             ],
             [
              0.6666666666666666,
              "#ed7953"
             ],
             [
              0.7777777777777778,
              "#fb9f3a"
             ],
             [
              0.8888888888888888,
              "#fdca26"
             ],
             [
              1,
              "#f0f921"
             ]
            ],
            "type": "heatmap"
           }
          ],
          "heatmapgl": [
           {
            "colorbar": {
             "outlinewidth": 0,
             "ticks": ""
            },
            "colorscale": [
             [
              0,
              "#0d0887"
             ],
             [
              0.1111111111111111,
              "#46039f"
             ],
             [
              0.2222222222222222,
              "#7201a8"
             ],
             [
              0.3333333333333333,
              "#9c179e"
             ],
             [
              0.4444444444444444,
              "#bd3786"
             ],
             [
              0.5555555555555556,
              "#d8576b"
             ],
             [
              0.6666666666666666,
              "#ed7953"
             ],
             [
              0.7777777777777778,
              "#fb9f3a"
             ],
             [
              0.8888888888888888,
              "#fdca26"
             ],
             [
              1,
              "#f0f921"
             ]
            ],
            "type": "heatmapgl"
           }
          ],
          "histogram": [
           {
            "marker": {
             "pattern": {
              "fillmode": "overlay",
              "size": 10,
              "solidity": 0.2
             }
            },
            "type": "histogram"
           }
          ],
          "histogram2d": [
           {
            "colorbar": {
             "outlinewidth": 0,
             "ticks": ""
            },
            "colorscale": [
             [
              0,
              "#0d0887"
             ],
             [
              0.1111111111111111,
              "#46039f"
             ],
             [
              0.2222222222222222,
              "#7201a8"
             ],
             [
              0.3333333333333333,
              "#9c179e"
             ],
             [
              0.4444444444444444,
              "#bd3786"
             ],
             [
              0.5555555555555556,
              "#d8576b"
             ],
             [
              0.6666666666666666,
              "#ed7953"
             ],
             [
              0.7777777777777778,
              "#fb9f3a"
             ],
             [
              0.8888888888888888,
              "#fdca26"
             ],
             [
              1,
              "#f0f921"
             ]
            ],
            "type": "histogram2d"
           }
          ],
          "histogram2dcontour": [
           {
            "colorbar": {
             "outlinewidth": 0,
             "ticks": ""
            },
            "colorscale": [
             [
              0,
              "#0d0887"
             ],
             [
              0.1111111111111111,
              "#46039f"
             ],
             [
              0.2222222222222222,
              "#7201a8"
             ],
             [
              0.3333333333333333,
              "#9c179e"
             ],
             [
              0.4444444444444444,
              "#bd3786"
             ],
             [
              0.5555555555555556,
              "#d8576b"
             ],
             [
              0.6666666666666666,
              "#ed7953"
             ],
             [
              0.7777777777777778,
              "#fb9f3a"
             ],
             [
              0.8888888888888888,
              "#fdca26"
             ],
             [
              1,
              "#f0f921"
             ]
            ],
            "type": "histogram2dcontour"
           }
          ],
          "mesh3d": [
           {
            "colorbar": {
             "outlinewidth": 0,
             "ticks": ""
            },
            "type": "mesh3d"
           }
          ],
          "parcoords": [
           {
            "line": {
             "colorbar": {
              "outlinewidth": 0,
              "ticks": ""
             }
            },
            "type": "parcoords"
           }
          ],
          "pie": [
           {
            "automargin": true,
            "type": "pie"
           }
          ],
          "scatter": [
           {
            "fillpattern": {
             "fillmode": "overlay",
             "size": 10,
             "solidity": 0.2
            },
            "type": "scatter"
           }
          ],
          "scatter3d": [
           {
            "line": {
             "colorbar": {
              "outlinewidth": 0,
              "ticks": ""
             }
            },
            "marker": {
             "colorbar": {
              "outlinewidth": 0,
              "ticks": ""
             }
            },
            "type": "scatter3d"
           }
          ],
          "scattercarpet": [
           {
            "marker": {
             "colorbar": {
              "outlinewidth": 0,
              "ticks": ""
             }
            },
            "type": "scattercarpet"
           }
          ],
          "scattergeo": [
           {
            "marker": {
             "colorbar": {
              "outlinewidth": 0,
              "ticks": ""
             }
            },
            "type": "scattergeo"
           }
          ],
          "scattergl": [
           {
            "marker": {
             "colorbar": {
              "outlinewidth": 0,
              "ticks": ""
             }
            },
            "type": "scattergl"
           }
          ],
          "scattermapbox": [
           {
            "marker": {
             "colorbar": {
              "outlinewidth": 0,
              "ticks": ""
             }
            },
            "type": "scattermapbox"
           }
          ],
          "scatterpolar": [
           {
            "marker": {
             "colorbar": {
              "outlinewidth": 0,
              "ticks": ""
             }
            },
            "type": "scatterpolar"
           }
          ],
          "scatterpolargl": [
           {
            "marker": {
             "colorbar": {
              "outlinewidth": 0,
              "ticks": ""
             }
            },
            "type": "scatterpolargl"
           }
          ],
          "scatterternary": [
           {
            "marker": {
             "colorbar": {
              "outlinewidth": 0,
              "ticks": ""
             }
            },
            "type": "scatterternary"
           }
          ],
          "surface": [
           {
            "colorbar": {
             "outlinewidth": 0,
             "ticks": ""
            },
            "colorscale": [
             [
              0,
              "#0d0887"
             ],
             [
              0.1111111111111111,
              "#46039f"
             ],
             [
              0.2222222222222222,
              "#7201a8"
             ],
             [
              0.3333333333333333,
              "#9c179e"
             ],
             [
              0.4444444444444444,
              "#bd3786"
             ],
             [
              0.5555555555555556,
              "#d8576b"
             ],
             [
              0.6666666666666666,
              "#ed7953"
             ],
             [
              0.7777777777777778,
              "#fb9f3a"
             ],
             [
              0.8888888888888888,
              "#fdca26"
             ],
             [
              1,
              "#f0f921"
             ]
            ],
            "type": "surface"
           }
          ],
          "table": [
           {
            "cells": {
             "fill": {
              "color": "#EBF0F8"
             },
             "line": {
              "color": "white"
             }
            },
            "header": {
             "fill": {
              "color": "#C8D4E3"
             },
             "line": {
              "color": "white"
             }
            },
            "type": "table"
           }
          ]
         },
         "layout": {
          "annotationdefaults": {
           "arrowcolor": "#2a3f5f",
           "arrowhead": 0,
           "arrowwidth": 1
          },
          "autotypenumbers": "strict",
          "coloraxis": {
           "colorbar": {
            "outlinewidth": 0,
            "ticks": ""
           }
          },
          "colorscale": {
           "diverging": [
            [
             0,
             "#8e0152"
            ],
            [
             0.1,
             "#c51b7d"
            ],
            [
             0.2,
             "#de77ae"
            ],
            [
             0.3,
             "#f1b6da"
            ],
            [
             0.4,
             "#fde0ef"
            ],
            [
             0.5,
             "#f7f7f7"
            ],
            [
             0.6,
             "#e6f5d0"
            ],
            [
             0.7,
             "#b8e186"
            ],
            [
             0.8,
             "#7fbc41"
            ],
            [
             0.9,
             "#4d9221"
            ],
            [
             1,
             "#276419"
            ]
           ],
           "sequential": [
            [
             0,
             "#0d0887"
            ],
            [
             0.1111111111111111,
             "#46039f"
            ],
            [
             0.2222222222222222,
             "#7201a8"
            ],
            [
             0.3333333333333333,
             "#9c179e"
            ],
            [
             0.4444444444444444,
             "#bd3786"
            ],
            [
             0.5555555555555556,
             "#d8576b"
            ],
            [
             0.6666666666666666,
             "#ed7953"
            ],
            [
             0.7777777777777778,
             "#fb9f3a"
            ],
            [
             0.8888888888888888,
             "#fdca26"
            ],
            [
             1,
             "#f0f921"
            ]
           ],
           "sequentialminus": [
            [
             0,
             "#0d0887"
            ],
            [
             0.1111111111111111,
             "#46039f"
            ],
            [
             0.2222222222222222,
             "#7201a8"
            ],
            [
             0.3333333333333333,
             "#9c179e"
            ],
            [
             0.4444444444444444,
             "#bd3786"
            ],
            [
             0.5555555555555556,
             "#d8576b"
            ],
            [
             0.6666666666666666,
             "#ed7953"
            ],
            [
             0.7777777777777778,
             "#fb9f3a"
            ],
            [
             0.8888888888888888,
             "#fdca26"
            ],
            [
             1,
             "#f0f921"
            ]
           ]
          },
          "colorway": [
           "#636efa",
           "#EF553B",
           "#00cc96",
           "#ab63fa",
           "#FFA15A",
           "#19d3f3",
           "#FF6692",
           "#B6E880",
           "#FF97FF",
           "#FECB52"
          ],
          "font": {
           "color": "#2a3f5f"
          },
          "geo": {
           "bgcolor": "white",
           "lakecolor": "white",
           "landcolor": "#E5ECF6",
           "showlakes": true,
           "showland": true,
           "subunitcolor": "white"
          },
          "hoverlabel": {
           "align": "left"
          },
          "hovermode": "closest",
          "mapbox": {
           "style": "light"
          },
          "paper_bgcolor": "white",
          "plot_bgcolor": "#E5ECF6",
          "polar": {
           "angularaxis": {
            "gridcolor": "white",
            "linecolor": "white",
            "ticks": ""
           },
           "bgcolor": "#E5ECF6",
           "radialaxis": {
            "gridcolor": "white",
            "linecolor": "white",
            "ticks": ""
           }
          },
          "scene": {
           "xaxis": {
            "backgroundcolor": "#E5ECF6",
            "gridcolor": "white",
            "gridwidth": 2,
            "linecolor": "white",
            "showbackground": true,
            "ticks": "",
            "zerolinecolor": "white"
           },
           "yaxis": {
            "backgroundcolor": "#E5ECF6",
            "gridcolor": "white",
            "gridwidth": 2,
            "linecolor": "white",
            "showbackground": true,
            "ticks": "",
            "zerolinecolor": "white"
           },
           "zaxis": {
            "backgroundcolor": "#E5ECF6",
            "gridcolor": "white",
            "gridwidth": 2,
            "linecolor": "white",
            "showbackground": true,
            "ticks": "",
            "zerolinecolor": "white"
           }
          },
          "shapedefaults": {
           "line": {
            "color": "#2a3f5f"
           }
          },
          "ternary": {
           "aaxis": {
            "gridcolor": "white",
            "linecolor": "white",
            "ticks": ""
           },
           "baxis": {
            "gridcolor": "white",
            "linecolor": "white",
            "ticks": ""
           },
           "bgcolor": "#E5ECF6",
           "caxis": {
            "gridcolor": "white",
            "linecolor": "white",
            "ticks": ""
           }
          },
          "title": {
           "x": 0.05
          },
          "xaxis": {
           "automargin": true,
           "gridcolor": "white",
           "linecolor": "white",
           "ticks": "",
           "title": {
            "standoff": 15
           },
           "zerolinecolor": "white",
           "zerolinewidth": 2
          },
          "yaxis": {
           "automargin": true,
           "gridcolor": "white",
           "linecolor": "white",
           "ticks": "",
           "title": {
            "standoff": 15
           },
           "zerolinecolor": "white",
           "zerolinewidth": 2
          }
         }
        },
        "title": {
         "text": "Orders Placed Throughout Each Year"
        },
        "xaxis": {
         "tickmode": "array",
         "ticktext": [
          "January",
          "February",
          "March",
          "April",
          "May",
          "June",
          "July",
          "August",
          "September",
          "October",
          "November",
          "December"
         ],
         "tickvals": [
          "January",
          "February",
          "March",
          "April",
          "May",
          "June",
          "July",
          "August",
          "September",
          "October",
          "November",
          "December"
         ],
         "title": {
          "text": "Month"
         }
        },
        "yaxis": {
         "title": {
          "text": "Ordered Quantity"
         }
        }
       }
      }
     },
     "metadata": {},
     "output_type": "display_data"
    }
   ],
   "source": [
    "import plotly.graph_objects as go\n",
    "\n",
    "df = pd.DataFrame(data_2016_2022)\n",
    "\n",
    "# Group by Year and Month Name, then sum Ordered Quantity\n",
    "grouped = df.groupby(['Year', 'Month Name'])['Ordered Quantity'].sum().unstack(level=0)\n",
    "\n",
    "# Sorting the index to ensure months are in order\n",
    "grouped = grouped.reindex(['January', 'February', 'March', 'April', 'May', 'June', 'July', 'August', 'September', 'October', 'November', 'December'])\n",
    "\n",
    "# Plotting with Plotly\n",
    "fig = go.Figure()\n",
    "\n",
    "for year in grouped.columns:\n",
    "    fig.add_trace(go.Scatter(x=grouped.index, y=grouped[year], mode='lines+markers', name=str(year)))\n",
    "\n",
    "fig.update_layout(\n",
    "    title='Orders Placed Throughout Each Year',\n",
    "    xaxis_title='Month',\n",
    "    yaxis_title='Ordered Quantity',\n",
    "    xaxis=dict(tickmode='array', tickvals=list(grouped.index), ticktext=grouped.index),\n",
    "    legend_title='Year'\n",
    ")\n",
    "\n",
    "fig.show()"
   ]
  },
  {
   "cell_type": "code",
   "execution_count": 106,
   "metadata": {},
   "outputs": [
    {
     "data": {
      "application/vnd.plotly.v1+json": {
       "config": {
        "plotlyServerURL": "https://plot.ly"
       },
       "data": [
        {
         "mode": "lines+markers",
         "name": "2016",
         "type": "scatter",
         "x": [
          1,
          2,
          3,
          4,
          5,
          6,
          7,
          8,
          9,
          10,
          11,
          12,
          13,
          14,
          15,
          16,
          17,
          18,
          19,
          20,
          21,
          22,
          23,
          24,
          25,
          26,
          27,
          28,
          29,
          30,
          31,
          32,
          33,
          34,
          35,
          36,
          37,
          38,
          39,
          40,
          41,
          42,
          43,
          44,
          45,
          46,
          47,
          48,
          49,
          50,
          51,
          52,
          53
         ],
         "y": [
          4165,
          846757,
          385780,
          621611,
          416217,
          551153,
          396710,
          410447,
          329979,
          375687,
          263047,
          270124,
          269739,
          143374,
          308589,
          323422,
          329691,
          264106,
          264293,
          338587,
          357540,
          385053,
          436493,
          182041,
          631003,
          379743,
          335151,
          459464,
          150443,
          90545,
          99869,
          398423,
          306423,
          293083,
          328418,
          263133,
          262109,
          317305,
          352347,
          269177,
          259973,
          466796,
          369473,
          427695,
          454717,
          608780,
          429252,
          312328,
          307876,
          362896,
          382027,
          331970,
          262615
         ]
        },
        {
         "mode": "lines+markers",
         "name": "2017",
         "type": "scatter",
         "x": [
          1,
          2,
          3,
          4,
          5,
          6,
          7,
          8,
          9,
          10,
          11,
          12,
          13,
          14,
          15,
          16,
          17,
          18,
          19,
          20,
          21,
          22,
          23,
          24,
          25,
          26,
          27,
          28,
          29,
          30,
          31,
          32,
          33,
          34,
          35,
          36,
          37,
          38,
          39,
          40,
          41,
          42,
          43,
          44,
          45,
          46,
          47,
          48,
          49,
          50,
          51,
          52,
          53
         ],
         "y": [
          368908,
          343960,
          362015,
          339072,
          321504,
          365901,
          314222,
          435271,
          322949,
          398011,
          212185,
          325197,
          259194,
          327503,
          294319,
          274917,
          291813,
          306041,
          307107,
          280854,
          355021,
          327511,
          492082,
          325791,
          539353,
          640239,
          127787,
          272372,
          72274,
          149068,
          157739,
          461737,
          338910,
          380939,
          350389,
          299008,
          290254,
          270693,
          254437,
          341519,
          277792,
          348886,
          369986,
          424400,
          429156,
          311760,
          291170,
          390425,
          478946,
          417842,
          307302,
          332500,
          84
         ]
        },
        {
         "mode": "lines+markers",
         "name": "2018",
         "type": "scatter",
         "x": [
          1,
          2,
          3,
          4,
          5,
          6,
          7,
          8,
          9,
          10,
          11,
          12,
          13,
          14,
          15,
          16,
          17,
          18,
          19,
          20,
          21,
          22,
          23,
          24,
          25,
          26,
          27,
          28,
          29,
          30,
          31,
          32,
          33,
          34,
          35,
          36,
          37,
          38,
          39,
          40,
          41,
          42,
          43,
          44,
          45,
          46,
          47,
          48,
          49,
          50,
          51,
          52,
          53
         ],
         "y": [
          353946,
          511643,
          427786,
          737725,
          197327,
          386343,
          273360,
          316002,
          366643,
          341992,
          332263,
          411959,
          400700,
          514364,
          459392,
          537102,
          406045,
          523908,
          451282,
          258052,
          319102,
          427220,
          480197,
          490617,
          343522,
          427007,
          426766,
          507913,
          178316,
          378755,
          68969,
          139489,
          246898,
          282908,
          308344,
          285214,
          307732,
          328544,
          400276,
          477330,
          343005,
          254358,
          348795,
          294604,
          407673,
          473995,
          596505,
          420904,
          272251,
          259937,
          330177,
          67683,
          1087
         ]
        },
        {
         "mode": "lines+markers",
         "name": "2019",
         "type": "scatter",
         "x": [
          1,
          2,
          3,
          4,
          5,
          6,
          7,
          8,
          9,
          10,
          11,
          12,
          13,
          14,
          15,
          16,
          17,
          18,
          19,
          20,
          21,
          22,
          23,
          24,
          25,
          26,
          27,
          28,
          29,
          30,
          31,
          32,
          33,
          34,
          35,
          36,
          37,
          38,
          39,
          40,
          41,
          42,
          43,
          44,
          45,
          46,
          47,
          48,
          49,
          50,
          51,
          52,
          53
         ],
         "y": [
          382495,
          552021,
          394899,
          366233,
          386365,
          398760,
          352570,
          332708,
          364645,
          317094,
          416006,
          352352,
          379960,
          621593,
          733980,
          89404,
          225995,
          215934,
          342936,
          570243,
          313848,
          205599,
          514955,
          372217,
          437801,
          306540,
          270455,
          984114,
          146423,
          146978,
          161443,
          391250,
          267643,
          329820,
          308853,
          366513,
          350376,
          253043,
          267691,
          420798,
          495398,
          290895,
          306547,
          329169,
          459561,
          302180,
          541376,
          298567,
          743167,
          136746,
          385520,
          348075,
          188907
         ]
        },
        {
         "mode": "lines+markers",
         "name": "2020",
         "type": "scatter",
         "x": [
          1,
          2,
          3,
          4,
          5,
          6,
          7,
          8,
          9,
          10,
          11,
          12,
          13,
          14,
          15,
          16,
          17,
          18,
          19,
          20,
          21,
          22,
          23,
          24,
          25,
          26,
          27,
          28,
          29,
          30,
          31,
          32,
          33,
          34,
          35,
          36,
          37,
          38,
          39,
          40,
          41,
          42,
          43,
          44,
          45,
          46,
          47,
          48,
          49,
          50,
          51,
          52,
          53
         ],
         "y": [
          79302,
          408619,
          348332,
          351739,
          826090,
          158755,
          325054,
          413118,
          376966,
          441859,
          337183,
          408171,
          599593,
          390111,
          473967,
          173453,
          265338,
          241332,
          241669,
          265752,
          210048,
          146252,
          411789,
          375449,
          594369,
          278969,
          396805,
          418644,
          359231,
          462541,
          519525,
          340645,
          486948,
          528807,
          508715,
          653847,
          372997,
          105739,
          379031,
          591056,
          381642,
          333688,
          395604,
          597554,
          722052,
          429566,
          549349,
          319847,
          430051,
          443452,
          460688,
          83056,
          366877
         ]
        },
        {
         "mode": "lines+markers",
         "name": "2021",
         "type": "scatter",
         "x": [
          1,
          2,
          3,
          4,
          5,
          6,
          7,
          8,
          9,
          10,
          11,
          12,
          13,
          14,
          15,
          16,
          17,
          18,
          19,
          20,
          21,
          22,
          23,
          24,
          25,
          26,
          27,
          28,
          29,
          30,
          31,
          32,
          33,
          34,
          35,
          36,
          37,
          38,
          39,
          40,
          41,
          42,
          43,
          44,
          45,
          46,
          47,
          48,
          49,
          50,
          51,
          52,
          53
         ],
         "y": [
          1801,
          471934,
          558022,
          528766,
          656206,
          319601,
          425690,
          486402,
          448035,
          548367,
          428092,
          462737,
          447477,
          922081,
          301526,
          291195,
          488975,
          575896,
          513166,
          845160,
          326096,
          491030,
          473885,
          456201,
          672421,
          204636,
          512752,
          513245,
          424522,
          440052,
          503550,
          425924,
          383845,
          447131,
          429682,
          513225,
          539011,
          666836,
          68465,
          402376,
          486300,
          563725,
          541908,
          541916,
          729877,
          625635,
          488387,
          509182,
          546876,
          482719,
          487099,
          389908,
          397203
         ]
        },
        {
         "mode": "lines+markers",
         "name": "2022",
         "type": "scatter",
         "x": [
          1,
          2,
          3,
          4,
          5,
          6,
          7,
          8,
          9,
          10,
          11,
          12,
          13,
          14,
          15,
          16,
          17,
          18,
          19,
          20,
          21,
          22,
          23,
          24,
          25,
          26,
          27,
          28,
          29,
          30,
          31,
          32,
          33,
          34,
          35,
          36,
          37,
          38,
          39,
          40,
          41,
          42,
          43,
          44,
          45,
          46,
          47,
          48,
          49,
          50,
          51,
          52,
          53
         ],
         "y": [
          57,
          450997,
          409922,
          517075,
          227300,
          526588,
          414395,
          692024,
          436684,
          391205,
          492536,
          538011,
          437384,
          382052,
          625771,
          480325,
          511900,
          743499,
          652681,
          134379,
          367192,
          455553,
          395891,
          570544,
          701674,
          337004,
          522316,
          752158,
          305963,
          151662,
          82929,
          363024,
          467575,
          383203,
          406764,
          488337,
          491420,
          404190,
          461037,
          387254,
          149319,
          345858,
          517231,
          348325,
          355051,
          319751,
          386221,
          289998,
          497020,
          403850,
          426932,
          352715,
          334885
         ]
        }
       ],
       "layout": {
        "template": {
         "data": {
          "bar": [
           {
            "error_x": {
             "color": "#2a3f5f"
            },
            "error_y": {
             "color": "#2a3f5f"
            },
            "marker": {
             "line": {
              "color": "#E5ECF6",
              "width": 0.5
             },
             "pattern": {
              "fillmode": "overlay",
              "size": 10,
              "solidity": 0.2
             }
            },
            "type": "bar"
           }
          ],
          "barpolar": [
           {
            "marker": {
             "line": {
              "color": "#E5ECF6",
              "width": 0.5
             },
             "pattern": {
              "fillmode": "overlay",
              "size": 10,
              "solidity": 0.2
             }
            },
            "type": "barpolar"
           }
          ],
          "carpet": [
           {
            "aaxis": {
             "endlinecolor": "#2a3f5f",
             "gridcolor": "white",
             "linecolor": "white",
             "minorgridcolor": "white",
             "startlinecolor": "#2a3f5f"
            },
            "baxis": {
             "endlinecolor": "#2a3f5f",
             "gridcolor": "white",
             "linecolor": "white",
             "minorgridcolor": "white",
             "startlinecolor": "#2a3f5f"
            },
            "type": "carpet"
           }
          ],
          "choropleth": [
           {
            "colorbar": {
             "outlinewidth": 0,
             "ticks": ""
            },
            "type": "choropleth"
           }
          ],
          "contour": [
           {
            "colorbar": {
             "outlinewidth": 0,
             "ticks": ""
            },
            "colorscale": [
             [
              0,
              "#0d0887"
             ],
             [
              0.1111111111111111,
              "#46039f"
             ],
             [
              0.2222222222222222,
              "#7201a8"
             ],
             [
              0.3333333333333333,
              "#9c179e"
             ],
             [
              0.4444444444444444,
              "#bd3786"
             ],
             [
              0.5555555555555556,
              "#d8576b"
             ],
             [
              0.6666666666666666,
              "#ed7953"
             ],
             [
              0.7777777777777778,
              "#fb9f3a"
             ],
             [
              0.8888888888888888,
              "#fdca26"
             ],
             [
              1,
              "#f0f921"
             ]
            ],
            "type": "contour"
           }
          ],
          "contourcarpet": [
           {
            "colorbar": {
             "outlinewidth": 0,
             "ticks": ""
            },
            "type": "contourcarpet"
           }
          ],
          "heatmap": [
           {
            "colorbar": {
             "outlinewidth": 0,
             "ticks": ""
            },
            "colorscale": [
             [
              0,
              "#0d0887"
             ],
             [
              0.1111111111111111,
              "#46039f"
             ],
             [
              0.2222222222222222,
              "#7201a8"
             ],
             [
              0.3333333333333333,
              "#9c179e"
             ],
             [
              0.4444444444444444,
              "#bd3786"
             ],
             [
              0.5555555555555556,
              "#d8576b"
             ],
             [
              0.6666666666666666,
              "#ed7953"
             ],
             [
              0.7777777777777778,
              "#fb9f3a"
             ],
             [
              0.8888888888888888,
              "#fdca26"
             ],
             [
              1,
              "#f0f921"
             ]
            ],
            "type": "heatmap"
           }
          ],
          "heatmapgl": [
           {
            "colorbar": {
             "outlinewidth": 0,
             "ticks": ""
            },
            "colorscale": [
             [
              0,
              "#0d0887"
             ],
             [
              0.1111111111111111,
              "#46039f"
             ],
             [
              0.2222222222222222,
              "#7201a8"
             ],
             [
              0.3333333333333333,
              "#9c179e"
             ],
             [
              0.4444444444444444,
              "#bd3786"
             ],
             [
              0.5555555555555556,
              "#d8576b"
             ],
             [
              0.6666666666666666,
              "#ed7953"
             ],
             [
              0.7777777777777778,
              "#fb9f3a"
             ],
             [
              0.8888888888888888,
              "#fdca26"
             ],
             [
              1,
              "#f0f921"
             ]
            ],
            "type": "heatmapgl"
           }
          ],
          "histogram": [
           {
            "marker": {
             "pattern": {
              "fillmode": "overlay",
              "size": 10,
              "solidity": 0.2
             }
            },
            "type": "histogram"
           }
          ],
          "histogram2d": [
           {
            "colorbar": {
             "outlinewidth": 0,
             "ticks": ""
            },
            "colorscale": [
             [
              0,
              "#0d0887"
             ],
             [
              0.1111111111111111,
              "#46039f"
             ],
             [
              0.2222222222222222,
              "#7201a8"
             ],
             [
              0.3333333333333333,
              "#9c179e"
             ],
             [
              0.4444444444444444,
              "#bd3786"
             ],
             [
              0.5555555555555556,
              "#d8576b"
             ],
             [
              0.6666666666666666,
              "#ed7953"
             ],
             [
              0.7777777777777778,
              "#fb9f3a"
             ],
             [
              0.8888888888888888,
              "#fdca26"
             ],
             [
              1,
              "#f0f921"
             ]
            ],
            "type": "histogram2d"
           }
          ],
          "histogram2dcontour": [
           {
            "colorbar": {
             "outlinewidth": 0,
             "ticks": ""
            },
            "colorscale": [
             [
              0,
              "#0d0887"
             ],
             [
              0.1111111111111111,
              "#46039f"
             ],
             [
              0.2222222222222222,
              "#7201a8"
             ],
             [
              0.3333333333333333,
              "#9c179e"
             ],
             [
              0.4444444444444444,
              "#bd3786"
             ],
             [
              0.5555555555555556,
              "#d8576b"
             ],
             [
              0.6666666666666666,
              "#ed7953"
             ],
             [
              0.7777777777777778,
              "#fb9f3a"
             ],
             [
              0.8888888888888888,
              "#fdca26"
             ],
             [
              1,
              "#f0f921"
             ]
            ],
            "type": "histogram2dcontour"
           }
          ],
          "mesh3d": [
           {
            "colorbar": {
             "outlinewidth": 0,
             "ticks": ""
            },
            "type": "mesh3d"
           }
          ],
          "parcoords": [
           {
            "line": {
             "colorbar": {
              "outlinewidth": 0,
              "ticks": ""
             }
            },
            "type": "parcoords"
           }
          ],
          "pie": [
           {
            "automargin": true,
            "type": "pie"
           }
          ],
          "scatter": [
           {
            "fillpattern": {
             "fillmode": "overlay",
             "size": 10,
             "solidity": 0.2
            },
            "type": "scatter"
           }
          ],
          "scatter3d": [
           {
            "line": {
             "colorbar": {
              "outlinewidth": 0,
              "ticks": ""
             }
            },
            "marker": {
             "colorbar": {
              "outlinewidth": 0,
              "ticks": ""
             }
            },
            "type": "scatter3d"
           }
          ],
          "scattercarpet": [
           {
            "marker": {
             "colorbar": {
              "outlinewidth": 0,
              "ticks": ""
             }
            },
            "type": "scattercarpet"
           }
          ],
          "scattergeo": [
           {
            "marker": {
             "colorbar": {
              "outlinewidth": 0,
              "ticks": ""
             }
            },
            "type": "scattergeo"
           }
          ],
          "scattergl": [
           {
            "marker": {
             "colorbar": {
              "outlinewidth": 0,
              "ticks": ""
             }
            },
            "type": "scattergl"
           }
          ],
          "scattermapbox": [
           {
            "marker": {
             "colorbar": {
              "outlinewidth": 0,
              "ticks": ""
             }
            },
            "type": "scattermapbox"
           }
          ],
          "scatterpolar": [
           {
            "marker": {
             "colorbar": {
              "outlinewidth": 0,
              "ticks": ""
             }
            },
            "type": "scatterpolar"
           }
          ],
          "scatterpolargl": [
           {
            "marker": {
             "colorbar": {
              "outlinewidth": 0,
              "ticks": ""
             }
            },
            "type": "scatterpolargl"
           }
          ],
          "scatterternary": [
           {
            "marker": {
             "colorbar": {
              "outlinewidth": 0,
              "ticks": ""
             }
            },
            "type": "scatterternary"
           }
          ],
          "surface": [
           {
            "colorbar": {
             "outlinewidth": 0,
             "ticks": ""
            },
            "colorscale": [
             [
              0,
              "#0d0887"
             ],
             [
              0.1111111111111111,
              "#46039f"
             ],
             [
              0.2222222222222222,
              "#7201a8"
             ],
             [
              0.3333333333333333,
              "#9c179e"
             ],
             [
              0.4444444444444444,
              "#bd3786"
             ],
             [
              0.5555555555555556,
              "#d8576b"
             ],
             [
              0.6666666666666666,
              "#ed7953"
             ],
             [
              0.7777777777777778,
              "#fb9f3a"
             ],
             [
              0.8888888888888888,
              "#fdca26"
             ],
             [
              1,
              "#f0f921"
             ]
            ],
            "type": "surface"
           }
          ],
          "table": [
           {
            "cells": {
             "fill": {
              "color": "#EBF0F8"
             },
             "line": {
              "color": "white"
             }
            },
            "header": {
             "fill": {
              "color": "#C8D4E3"
             },
             "line": {
              "color": "white"
             }
            },
            "type": "table"
           }
          ]
         },
         "layout": {
          "annotationdefaults": {
           "arrowcolor": "#2a3f5f",
           "arrowhead": 0,
           "arrowwidth": 1
          },
          "autotypenumbers": "strict",
          "coloraxis": {
           "colorbar": {
            "outlinewidth": 0,
            "ticks": ""
           }
          },
          "colorscale": {
           "diverging": [
            [
             0,
             "#8e0152"
            ],
            [
             0.1,
             "#c51b7d"
            ],
            [
             0.2,
             "#de77ae"
            ],
            [
             0.3,
             "#f1b6da"
            ],
            [
             0.4,
             "#fde0ef"
            ],
            [
             0.5,
             "#f7f7f7"
            ],
            [
             0.6,
             "#e6f5d0"
            ],
            [
             0.7,
             "#b8e186"
            ],
            [
             0.8,
             "#7fbc41"
            ],
            [
             0.9,
             "#4d9221"
            ],
            [
             1,
             "#276419"
            ]
           ],
           "sequential": [
            [
             0,
             "#0d0887"
            ],
            [
             0.1111111111111111,
             "#46039f"
            ],
            [
             0.2222222222222222,
             "#7201a8"
            ],
            [
             0.3333333333333333,
             "#9c179e"
            ],
            [
             0.4444444444444444,
             "#bd3786"
            ],
            [
             0.5555555555555556,
             "#d8576b"
            ],
            [
             0.6666666666666666,
             "#ed7953"
            ],
            [
             0.7777777777777778,
             "#fb9f3a"
            ],
            [
             0.8888888888888888,
             "#fdca26"
            ],
            [
             1,
             "#f0f921"
            ]
           ],
           "sequentialminus": [
            [
             0,
             "#0d0887"
            ],
            [
             0.1111111111111111,
             "#46039f"
            ],
            [
             0.2222222222222222,
             "#7201a8"
            ],
            [
             0.3333333333333333,
             "#9c179e"
            ],
            [
             0.4444444444444444,
             "#bd3786"
            ],
            [
             0.5555555555555556,
             "#d8576b"
            ],
            [
             0.6666666666666666,
             "#ed7953"
            ],
            [
             0.7777777777777778,
             "#fb9f3a"
            ],
            [
             0.8888888888888888,
             "#fdca26"
            ],
            [
             1,
             "#f0f921"
            ]
           ]
          },
          "colorway": [
           "#636efa",
           "#EF553B",
           "#00cc96",
           "#ab63fa",
           "#FFA15A",
           "#19d3f3",
           "#FF6692",
           "#B6E880",
           "#FF97FF",
           "#FECB52"
          ],
          "font": {
           "color": "#2a3f5f"
          },
          "geo": {
           "bgcolor": "white",
           "lakecolor": "white",
           "landcolor": "#E5ECF6",
           "showlakes": true,
           "showland": true,
           "subunitcolor": "white"
          },
          "hoverlabel": {
           "align": "left"
          },
          "hovermode": "closest",
          "mapbox": {
           "style": "light"
          },
          "paper_bgcolor": "white",
          "plot_bgcolor": "#E5ECF6",
          "polar": {
           "angularaxis": {
            "gridcolor": "white",
            "linecolor": "white",
            "ticks": ""
           },
           "bgcolor": "#E5ECF6",
           "radialaxis": {
            "gridcolor": "white",
            "linecolor": "white",
            "ticks": ""
           }
          },
          "scene": {
           "xaxis": {
            "backgroundcolor": "#E5ECF6",
            "gridcolor": "white",
            "gridwidth": 2,
            "linecolor": "white",
            "showbackground": true,
            "ticks": "",
            "zerolinecolor": "white"
           },
           "yaxis": {
            "backgroundcolor": "#E5ECF6",
            "gridcolor": "white",
            "gridwidth": 2,
            "linecolor": "white",
            "showbackground": true,
            "ticks": "",
            "zerolinecolor": "white"
           },
           "zaxis": {
            "backgroundcolor": "#E5ECF6",
            "gridcolor": "white",
            "gridwidth": 2,
            "linecolor": "white",
            "showbackground": true,
            "ticks": "",
            "zerolinecolor": "white"
           }
          },
          "shapedefaults": {
           "line": {
            "color": "#2a3f5f"
           }
          },
          "ternary": {
           "aaxis": {
            "gridcolor": "white",
            "linecolor": "white",
            "ticks": ""
           },
           "baxis": {
            "gridcolor": "white",
            "linecolor": "white",
            "ticks": ""
           },
           "bgcolor": "#E5ECF6",
           "caxis": {
            "gridcolor": "white",
            "linecolor": "white",
            "ticks": ""
           }
          },
          "title": {
           "x": 0.05
          },
          "xaxis": {
           "automargin": true,
           "gridcolor": "white",
           "linecolor": "white",
           "ticks": "",
           "title": {
            "standoff": 15
           },
           "zerolinecolor": "white",
           "zerolinewidth": 2
          },
          "yaxis": {
           "automargin": true,
           "gridcolor": "white",
           "linecolor": "white",
           "ticks": "",
           "title": {
            "standoff": 15
           },
           "zerolinecolor": "white",
           "zerolinewidth": 2
          }
         }
        },
        "title": {
         "text": "Orders Placed Throughout Each Year"
        },
        "xaxis": {
         "dtick": 1,
         "tick0": 1,
         "tickmode": "linear",
         "title": {
          "text": "Week Number"
         }
        },
        "yaxis": {
         "tickformat": ",",
         "title": {
          "text": "Ordered Quantity"
         }
        }
       }
      }
     },
     "metadata": {},
     "output_type": "display_data"
    }
   ],
   "source": [
    "\n",
    "df = pd.DataFrame(data_2016_2022)\n",
    "\n",
    "# Group by Year and Week Number, then sum Ordered Quantity\n",
    "grouped = df.groupby([ 'Week Number','Year'])['Ordered Quantity'].sum().unstack(level=1)\n",
    "# week = df.groupby(['Week Number'])['Ordered Quantity'].sum().unstack()\n",
    "\n",
    "# Plotting with Plotly\n",
    "fig = go.Figure()\n",
    "\n",
    "for year in grouped.columns:\n",
    "    fig.add_trace(go.Scatter(x=grouped.index, y=grouped[year], mode='lines+markers', name=str(year)))\n",
    "\n",
    "fig.update_layout(\n",
    "    title='Orders Placed Throughout Each Year',\n",
    "    xaxis_title='Week Number',\n",
    "    yaxis_title='Ordered Quantity',\n",
    "    xaxis=dict(tickmode='linear', tick0=1, dtick=1),  # Display ticks for each week number\n",
    "    yaxis=dict(tickformat=','),)\n",
    "\n",
    "fig.show()"
   ]
  },
  {
   "cell_type": "code",
   "execution_count": 100,
   "metadata": {},
   "outputs": [
    {
     "data": {
      "text/plain": [
       "np.float64(4165.0)"
      ]
     },
     "execution_count": 100,
     "metadata": {},
     "output_type": "execute_result"
    }
   ],
   "source": [
    "wo = data_2016_2022[(data_2016_2022['Year']==2016)  & (data_2016_2022['Ordered Quantity']) & (data_2016_2022['Week Number'] == 1)]\n",
    "wo = wo['Ordered Quantity'].sum()\n",
    "wo\n",
    "# two = data_2016_2022[(data_2016_2022['Year']==2016) & (data_2016_2022['Week Number'] == '2') & (data_2016_2022['Ordered Quantity'])]\n",
    "# two_orders = feb['Ordered Quantity'].sum()\n",
    "# difference = one_orders-two_orders\n",
    "# print(f\"{one_orders} , {two_orders} , {difference}\" )"
   ]
  },
  {
   "cell_type": "code",
   "execution_count": null,
   "metadata": {},
   "outputs": [],
   "source": []
  }
 ],
 "metadata": {
  "kernelspec": {
   "display_name": ".venv",
   "language": "python",
   "name": "python3"
  },
  "language_info": {
   "codemirror_mode": {
    "name": "ipython",
    "version": 3
   },
   "file_extension": ".py",
   "mimetype": "text/x-python",
   "name": "python",
   "nbconvert_exporter": "python",
   "pygments_lexer": "ipython3",
   "version": "3.12.3"
  }
 },
 "nbformat": 4,
 "nbformat_minor": 2
}
